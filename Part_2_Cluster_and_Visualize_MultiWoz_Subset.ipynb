{
  "cells": [
    {
      "cell_type": "markdown",
      "id": "55e7b44b",
      "metadata": {
        "id": "55e7b44b"
      },
      "source": [
        "### JSALT'23 Computer Lab Part II\n",
        "\n",
        "- In this part, we will use simple strategies to analyze and visualize human-to-human task-oriented conversations.\n",
        "\n",
        "- For this, we will use a standard dataset called MultiWoz v2.2, that covers several task-oriented domains such as\n",
        "restaurant, taxi, hotel, train bookings, tourist attractions, and even combination of these domains.\n",
        "\n",
        "- However, we will use only a subset of the conversations and try to find a strucutre within the conversations"
      ]
    },
    {
      "cell_type": "markdown",
      "id": "cb2d7f7e",
      "metadata": {
        "id": "cb2d7f7e"
      },
      "source": [
        "### Hardware\n",
        "- We can use either Google collab or Kaggle notebooks or your personal laptops (with a GPU)\n",
        "- Some part of the assignment requires a GPU"
      ]
    },
    {
      "cell_type": "markdown",
      "id": "324455a1",
      "metadata": {
        "id": "324455a1"
      },
      "source": [
        "### Install required packages in a Kaggle notebook\n",
        "```\n",
        "! pip3 install sentence-transformers==2.2.2\n",
        "! pip3 install datasets==2.12\n",
        "! pip3 install scikit-learn==1.2.2\n",
        "! pip3 install graphviz\n",
        "! pip3 install matplotlib\n",
        "```"
      ]
    },
    {
      "cell_type": "code",
      "execution_count": 1,
      "id": "ec7e945b",
      "metadata": {
        "colab": {
          "base_uri": "https://localhost:8080/"
        },
        "id": "ec7e945b",
        "outputId": "557a2f66-5997-4f22-c149-91bc014a567a"
      },
      "outputs": [
        {
          "output_type": "stream",
          "name": "stdout",
          "text": [
            "Looking in indexes: https://pypi.org/simple, https://us-python.pkg.dev/colab-wheels/public/simple/\n",
            "Requirement already satisfied: sentence-transformers==2.2.2 in /usr/local/lib/python3.10/dist-packages (2.2.2)\n",
            "Requirement already satisfied: transformers<5.0.0,>=4.6.0 in /usr/local/lib/python3.10/dist-packages (from sentence-transformers==2.2.2) (4.30.2)\n",
            "Requirement already satisfied: tqdm in /usr/local/lib/python3.10/dist-packages (from sentence-transformers==2.2.2) (4.65.0)\n",
            "Requirement already satisfied: torch>=1.6.0 in /usr/local/lib/python3.10/dist-packages (from sentence-transformers==2.2.2) (2.0.1+cu118)\n",
            "Requirement already satisfied: torchvision in /usr/local/lib/python3.10/dist-packages (from sentence-transformers==2.2.2) (0.15.2+cu118)\n",
            "Requirement already satisfied: numpy in /usr/local/lib/python3.10/dist-packages (from sentence-transformers==2.2.2) (1.22.4)\n",
            "Requirement already satisfied: scikit-learn in /usr/local/lib/python3.10/dist-packages (from sentence-transformers==2.2.2) (1.2.2)\n",
            "Requirement already satisfied: scipy in /usr/local/lib/python3.10/dist-packages (from sentence-transformers==2.2.2) (1.10.1)\n",
            "Requirement already satisfied: nltk in /usr/local/lib/python3.10/dist-packages (from sentence-transformers==2.2.2) (3.8.1)\n",
            "Requirement already satisfied: sentencepiece in /usr/local/lib/python3.10/dist-packages (from sentence-transformers==2.2.2) (0.1.99)\n",
            "Requirement already satisfied: huggingface-hub>=0.4.0 in /usr/local/lib/python3.10/dist-packages (from sentence-transformers==2.2.2) (0.15.1)\n",
            "Requirement already satisfied: filelock in /usr/local/lib/python3.10/dist-packages (from huggingface-hub>=0.4.0->sentence-transformers==2.2.2) (3.12.0)\n",
            "Requirement already satisfied: fsspec in /usr/local/lib/python3.10/dist-packages (from huggingface-hub>=0.4.0->sentence-transformers==2.2.2) (2023.4.0)\n",
            "Requirement already satisfied: requests in /usr/local/lib/python3.10/dist-packages (from huggingface-hub>=0.4.0->sentence-transformers==2.2.2) (2.27.1)\n",
            "Requirement already satisfied: pyyaml>=5.1 in /usr/local/lib/python3.10/dist-packages (from huggingface-hub>=0.4.0->sentence-transformers==2.2.2) (6.0)\n",
            "Requirement already satisfied: typing-extensions>=3.7.4.3 in /usr/local/lib/python3.10/dist-packages (from huggingface-hub>=0.4.0->sentence-transformers==2.2.2) (4.5.0)\n",
            "Requirement already satisfied: packaging>=20.9 in /usr/local/lib/python3.10/dist-packages (from huggingface-hub>=0.4.0->sentence-transformers==2.2.2) (23.1)\n",
            "Requirement already satisfied: sympy in /usr/local/lib/python3.10/dist-packages (from torch>=1.6.0->sentence-transformers==2.2.2) (1.11.1)\n",
            "Requirement already satisfied: networkx in /usr/local/lib/python3.10/dist-packages (from torch>=1.6.0->sentence-transformers==2.2.2) (3.1)\n",
            "Requirement already satisfied: jinja2 in /usr/local/lib/python3.10/dist-packages (from torch>=1.6.0->sentence-transformers==2.2.2) (3.1.2)\n",
            "Requirement already satisfied: triton==2.0.0 in /usr/local/lib/python3.10/dist-packages (from torch>=1.6.0->sentence-transformers==2.2.2) (2.0.0)\n",
            "Requirement already satisfied: cmake in /usr/local/lib/python3.10/dist-packages (from triton==2.0.0->torch>=1.6.0->sentence-transformers==2.2.2) (3.25.2)\n",
            "Requirement already satisfied: lit in /usr/local/lib/python3.10/dist-packages (from triton==2.0.0->torch>=1.6.0->sentence-transformers==2.2.2) (16.0.5)\n",
            "Requirement already satisfied: regex!=2019.12.17 in /usr/local/lib/python3.10/dist-packages (from transformers<5.0.0,>=4.6.0->sentence-transformers==2.2.2) (2022.10.31)\n",
            "Requirement already satisfied: tokenizers!=0.11.3,<0.14,>=0.11.1 in /usr/local/lib/python3.10/dist-packages (from transformers<5.0.0,>=4.6.0->sentence-transformers==2.2.2) (0.13.3)\n",
            "Requirement already satisfied: safetensors>=0.3.1 in /usr/local/lib/python3.10/dist-packages (from transformers<5.0.0,>=4.6.0->sentence-transformers==2.2.2) (0.3.1)\n",
            "Requirement already satisfied: click in /usr/local/lib/python3.10/dist-packages (from nltk->sentence-transformers==2.2.2) (8.1.3)\n",
            "Requirement already satisfied: joblib in /usr/local/lib/python3.10/dist-packages (from nltk->sentence-transformers==2.2.2) (1.2.0)\n",
            "Requirement already satisfied: threadpoolctl>=2.0.0 in /usr/local/lib/python3.10/dist-packages (from scikit-learn->sentence-transformers==2.2.2) (3.1.0)\n",
            "Requirement already satisfied: pillow!=8.3.*,>=5.3.0 in /usr/local/lib/python3.10/dist-packages (from torchvision->sentence-transformers==2.2.2) (8.4.0)\n",
            "Requirement already satisfied: MarkupSafe>=2.0 in /usr/local/lib/python3.10/dist-packages (from jinja2->torch>=1.6.0->sentence-transformers==2.2.2) (2.1.2)\n",
            "Requirement already satisfied: urllib3<1.27,>=1.21.1 in /usr/local/lib/python3.10/dist-packages (from requests->huggingface-hub>=0.4.0->sentence-transformers==2.2.2) (1.26.15)\n",
            "Requirement already satisfied: certifi>=2017.4.17 in /usr/local/lib/python3.10/dist-packages (from requests->huggingface-hub>=0.4.0->sentence-transformers==2.2.2) (2022.12.7)\n",
            "Requirement already satisfied: charset-normalizer~=2.0.0 in /usr/local/lib/python3.10/dist-packages (from requests->huggingface-hub>=0.4.0->sentence-transformers==2.2.2) (2.0.12)\n",
            "Requirement already satisfied: idna<4,>=2.5 in /usr/local/lib/python3.10/dist-packages (from requests->huggingface-hub>=0.4.0->sentence-transformers==2.2.2) (3.4)\n",
            "Requirement already satisfied: mpmath>=0.19 in /usr/local/lib/python3.10/dist-packages (from sympy->torch>=1.6.0->sentence-transformers==2.2.2) (1.3.0)\n",
            "Looking in indexes: https://pypi.org/simple, https://us-python.pkg.dev/colab-wheels/public/simple/\n",
            "Requirement already satisfied: datasets==2.12 in /usr/local/lib/python3.10/dist-packages (2.12.0)\n",
            "Requirement already satisfied: numpy>=1.17 in /usr/local/lib/python3.10/dist-packages (from datasets==2.12) (1.22.4)\n",
            "Requirement already satisfied: pyarrow>=8.0.0 in /usr/local/lib/python3.10/dist-packages (from datasets==2.12) (9.0.0)\n",
            "Requirement already satisfied: dill<0.3.7,>=0.3.0 in /usr/local/lib/python3.10/dist-packages (from datasets==2.12) (0.3.6)\n",
            "Requirement already satisfied: pandas in /usr/local/lib/python3.10/dist-packages (from datasets==2.12) (1.5.3)\n",
            "Requirement already satisfied: requests>=2.19.0 in /usr/local/lib/python3.10/dist-packages (from datasets==2.12) (2.27.1)\n",
            "Requirement already satisfied: tqdm>=4.62.1 in /usr/local/lib/python3.10/dist-packages (from datasets==2.12) (4.65.0)\n",
            "Requirement already satisfied: xxhash in /usr/local/lib/python3.10/dist-packages (from datasets==2.12) (3.2.0)\n",
            "Requirement already satisfied: multiprocess in /usr/local/lib/python3.10/dist-packages (from datasets==2.12) (0.70.14)\n",
            "Requirement already satisfied: fsspec[http]>=2021.11.1 in /usr/local/lib/python3.10/dist-packages (from datasets==2.12) (2023.4.0)\n",
            "Requirement already satisfied: aiohttp in /usr/local/lib/python3.10/dist-packages (from datasets==2.12) (3.8.4)\n",
            "Requirement already satisfied: huggingface-hub<1.0.0,>=0.11.0 in /usr/local/lib/python3.10/dist-packages (from datasets==2.12) (0.15.1)\n",
            "Requirement already satisfied: packaging in /usr/local/lib/python3.10/dist-packages (from datasets==2.12) (23.1)\n",
            "Requirement already satisfied: responses<0.19 in /usr/local/lib/python3.10/dist-packages (from datasets==2.12) (0.18.0)\n",
            "Requirement already satisfied: pyyaml>=5.1 in /usr/local/lib/python3.10/dist-packages (from datasets==2.12) (6.0)\n",
            "Requirement already satisfied: attrs>=17.3.0 in /usr/local/lib/python3.10/dist-packages (from aiohttp->datasets==2.12) (23.1.0)\n",
            "Requirement already satisfied: charset-normalizer<4.0,>=2.0 in /usr/local/lib/python3.10/dist-packages (from aiohttp->datasets==2.12) (2.0.12)\n",
            "Requirement already satisfied: multidict<7.0,>=4.5 in /usr/local/lib/python3.10/dist-packages (from aiohttp->datasets==2.12) (6.0.4)\n",
            "Requirement already satisfied: async-timeout<5.0,>=4.0.0a3 in /usr/local/lib/python3.10/dist-packages (from aiohttp->datasets==2.12) (4.0.2)\n",
            "Requirement already satisfied: yarl<2.0,>=1.0 in /usr/local/lib/python3.10/dist-packages (from aiohttp->datasets==2.12) (1.9.2)\n",
            "Requirement already satisfied: frozenlist>=1.1.1 in /usr/local/lib/python3.10/dist-packages (from aiohttp->datasets==2.12) (1.3.3)\n",
            "Requirement already satisfied: aiosignal>=1.1.2 in /usr/local/lib/python3.10/dist-packages (from aiohttp->datasets==2.12) (1.3.1)\n",
            "Requirement already satisfied: filelock in /usr/local/lib/python3.10/dist-packages (from huggingface-hub<1.0.0,>=0.11.0->datasets==2.12) (3.12.0)\n",
            "Requirement already satisfied: typing-extensions>=3.7.4.3 in /usr/local/lib/python3.10/dist-packages (from huggingface-hub<1.0.0,>=0.11.0->datasets==2.12) (4.5.0)\n",
            "Requirement already satisfied: urllib3<1.27,>=1.21.1 in /usr/local/lib/python3.10/dist-packages (from requests>=2.19.0->datasets==2.12) (1.26.15)\n",
            "Requirement already satisfied: certifi>=2017.4.17 in /usr/local/lib/python3.10/dist-packages (from requests>=2.19.0->datasets==2.12) (2022.12.7)\n",
            "Requirement already satisfied: idna<4,>=2.5 in /usr/local/lib/python3.10/dist-packages (from requests>=2.19.0->datasets==2.12) (3.4)\n",
            "Requirement already satisfied: python-dateutil>=2.8.1 in /usr/local/lib/python3.10/dist-packages (from pandas->datasets==2.12) (2.8.2)\n",
            "Requirement already satisfied: pytz>=2020.1 in /usr/local/lib/python3.10/dist-packages (from pandas->datasets==2.12) (2022.7.1)\n",
            "Requirement already satisfied: six>=1.5 in /usr/local/lib/python3.10/dist-packages (from python-dateutil>=2.8.1->pandas->datasets==2.12) (1.16.0)\n",
            "Looking in indexes: https://pypi.org/simple, https://us-python.pkg.dev/colab-wheels/public/simple/\n",
            "Requirement already satisfied: scikit-learn==1.2.2 in /usr/local/lib/python3.10/dist-packages (1.2.2)\n",
            "Requirement already satisfied: numpy>=1.17.3 in /usr/local/lib/python3.10/dist-packages (from scikit-learn==1.2.2) (1.22.4)\n",
            "Requirement already satisfied: scipy>=1.3.2 in /usr/local/lib/python3.10/dist-packages (from scikit-learn==1.2.2) (1.10.1)\n",
            "Requirement already satisfied: joblib>=1.1.1 in /usr/local/lib/python3.10/dist-packages (from scikit-learn==1.2.2) (1.2.0)\n",
            "Requirement already satisfied: threadpoolctl>=2.0.0 in /usr/local/lib/python3.10/dist-packages (from scikit-learn==1.2.2) (3.1.0)\n",
            "Looking in indexes: https://pypi.org/simple, https://us-python.pkg.dev/colab-wheels/public/simple/\n",
            "Requirement already satisfied: graphviz in /usr/local/lib/python3.10/dist-packages (0.20.1)\n",
            "Looking in indexes: https://pypi.org/simple, https://us-python.pkg.dev/colab-wheels/public/simple/\n",
            "Requirement already satisfied: matplotlib in /usr/local/lib/python3.10/dist-packages (3.7.1)\n",
            "Requirement already satisfied: contourpy>=1.0.1 in /usr/local/lib/python3.10/dist-packages (from matplotlib) (1.0.7)\n",
            "Requirement already satisfied: cycler>=0.10 in /usr/local/lib/python3.10/dist-packages (from matplotlib) (0.11.0)\n",
            "Requirement already satisfied: fonttools>=4.22.0 in /usr/local/lib/python3.10/dist-packages (from matplotlib) (4.39.3)\n",
            "Requirement already satisfied: kiwisolver>=1.0.1 in /usr/local/lib/python3.10/dist-packages (from matplotlib) (1.4.4)\n",
            "Requirement already satisfied: numpy>=1.20 in /usr/local/lib/python3.10/dist-packages (from matplotlib) (1.22.4)\n",
            "Requirement already satisfied: packaging>=20.0 in /usr/local/lib/python3.10/dist-packages (from matplotlib) (23.1)\n",
            "Requirement already satisfied: pillow>=6.2.0 in /usr/local/lib/python3.10/dist-packages (from matplotlib) (8.4.0)\n",
            "Requirement already satisfied: pyparsing>=2.3.1 in /usr/local/lib/python3.10/dist-packages (from matplotlib) (3.0.9)\n",
            "Requirement already satisfied: python-dateutil>=2.7 in /usr/local/lib/python3.10/dist-packages (from matplotlib) (2.8.2)\n",
            "Requirement already satisfied: six>=1.5 in /usr/local/lib/python3.10/dist-packages (from python-dateutil>=2.7->matplotlib) (1.16.0)\n"
          ]
        }
      ],
      "source": [
        "! pip3 install sentence-transformers==2.2.2\n",
        "! pip3 install datasets==2.12\n",
        "! pip3 install scikit-learn==1.2.2\n",
        "! pip3 install graphviz\n",
        "! pip3 install matplotlib"
      ]
    },
    {
      "cell_type": "code",
      "execution_count": 2,
      "id": "74b0ad64",
      "metadata": {
        "id": "74b0ad64"
      },
      "outputs": [],
      "source": [
        "import os\n",
        "from typing import List, Union\n",
        "from copy import deepcopy\n",
        "import tqdm"
      ]
    },
    {
      "cell_type": "code",
      "execution_count": 8,
      "id": "5c091ba2",
      "metadata": {
        "id": "5c091ba2"
      },
      "outputs": [],
      "source": [
        "import torch\n",
        "from datasets import load_dataset\n",
        "from sentence_transformers import SentenceTransformer"
      ]
    },
    {
      "cell_type": "code",
      "execution_count": 12,
      "id": "524ff0d7",
      "metadata": {
        "id": "524ff0d7"
      },
      "outputs": [],
      "source": [
        "import numpy as np\n",
        "\n",
        "from sklearn.cluster import MiniBatchKMeans, KMeans\n",
        "from sklearn import preprocessing\n",
        "from sklearn.feature_extraction.text import CountVectorizer\n",
        "\n",
        "from scipy import sparse\n",
        "\n",
        "import graphviz\n",
        "\n",
        "import matplotlib.pyplot as plt"
      ]
    },
    {
      "cell_type": "code",
      "execution_count": 13,
      "id": "e4578887",
      "metadata": {
        "id": "e4578887"
      },
      "outputs": [],
      "source": [
        "def load_multiwoz_subset(domain):\n",
        "    \"\"\"Pick a subset of dialogues with given domain only.\n",
        "    Since each dialogue can contain multiple domains, the selected\n",
        "    subset will still be multi-domain with the given domain being dominant\"\"\"\n",
        "\n",
        "    multiwoz_dset = load_dataset(\"multi_woz_v22\")\n",
        "\n",
        "    subset_ixs = []  # list\n",
        "    subset_utts = []  # nested list\n",
        "\n",
        "    services_selected = []\n",
        "\n",
        "    for i, conv in enumerate(multiwoz_dset[\"train\"]):\n",
        "        # keys: dialogue_id, services, turns\n",
        "        if domain in conv[\"services\"]:\n",
        "            utts = conv[\"turns\"][\"utterance\"]\n",
        "            subset_utts.append(utts)\n",
        "            subset_ixs.append(i)\n",
        "            services_selected.append(\"_\".join(sorted(conv['services'])))\n",
        "\n",
        "    return subset_utts, subset_ixs, services_selected"
      ]
    },
    {
      "cell_type": "code",
      "execution_count": 20,
      "id": "ab75cddf",
      "metadata": {
        "scrolled": false,
        "colab": {
          "base_uri": "https://localhost:8080/",
          "height": 468,
          "referenced_widgets": [
            "117e5636ea8c42c9832256f4f432d666",
            "6b878ec11a084476a8adb19d5a8466c7",
            "3a7384ef1f51453487f319c6fa05104e",
            "8abafca3090842b19161816f93c33530",
            "2079f6de51ef43a090307f2bacbe65b4",
            "5bb1ba9944be4fe7b73b802af855a418",
            "cf43e1789e31417190e930e843dc9291",
            "240589b867a04faa85ee216f44bff283",
            "189d07277801440691909a1c721f55b4",
            "bf65455d9fcd47afadf9faa7d3c84ce6",
            "3540aba9c2dc459cb8968d93a944b54f"
          ]
        },
        "id": "ab75cddf",
        "outputId": "9b26bfbc-dc0e-45cb-d5fa-3ff740c3ec8c"
      },
      "outputs": [
        {
          "output_type": "stream",
          "name": "stderr",
          "text": [
            "WARNING:datasets.builder:No config specified, defaulting to: multi_woz_v22/v2.2_active_only\n",
            "WARNING:datasets.builder:Found cached dataset multi_woz_v22 (/root/.cache/huggingface/datasets/multi_woz_v22/v2.2_active_only/2.2.0/6719c8b21478299411a0c6fdb7137c3ebab2e6425129af831687fb7851c69eb5)\n"
          ]
        },
        {
          "output_type": "display_data",
          "data": {
            "text/plain": [
              "  0%|          | 0/3 [00:00<?, ?it/s]"
            ],
            "application/vnd.jupyter.widget-view+json": {
              "version_major": 2,
              "version_minor": 0,
              "model_id": "117e5636ea8c42c9832256f4f432d666"
            }
          },
          "metadata": {}
        },
        {
          "output_type": "stream",
          "name": "stdout",
          "text": [
            "Conversations with domain: restaurant = 3836\n",
            "Services selected\n",
            "  attraction_restaurant_taxi_train\n",
            "  - restaurant_taxi_train\n",
            "  - attraction_restaurant_train\n",
            "  - attraction_hotel_restaurant_train\n",
            "  - attraction_restaurant\n",
            "  - hotel_restaurant_taxi_train\n",
            "  - attraction_hotel_restaurant_taxi\n",
            "  - restaurant_train\n",
            "  - attraction_restaurant_taxi\n",
            "  - hotel_restaurant_taxi\n",
            "  - attraction_bus_restaurant\n",
            "  - restaurant_taxi\n",
            "  - hotel_restaurant_train\n",
            "  - restaurant\n",
            "  - attraction_hotel_restaurant\n",
            "  - hotel_restaurant\n",
            "\n",
            "Total number of utterances (sentences): 54446\n",
            "Average number of utts per conversation: 14.2\n"
          ]
        }
      ],
      "source": [
        "# In Multiwoz dataset, conversations with a single domain rarely exist.\n",
        "# Most of the convsersations involve multiple domains, hence \"multi\"-woz\n",
        "\n",
        "domain = 'restaurant'\n",
        "\n",
        "domain_convs, domain_ixs, services_selected = load_multiwoz_subset(domain)\n",
        "print('Conversations with domain:', domain, '=', len(domain_convs))\n",
        "print(\"Services selected\\n \", \"\\n  - \".join(list(set(services_selected))))\n",
        "\n",
        "utts_per_conv = np.asarray([len(conv) for conv in domain_convs])\n",
        "print('\\nTotal number of utterances (sentences):', np.sum(utts_per_conv))\n",
        "avg_utts_per_conv = np.mean(utts_per_conv)\n",
        "print('Average number of utts per conversation: {:.1f}'.format(avg_utts_per_conv))"
      ]
    },
    {
      "cell_type": "code",
      "execution_count": 22,
      "id": "8bba1869",
      "metadata": {
        "id": "8bba1869"
      },
      "outputs": [],
      "source": [
        "def extract_sentence_embeddings(sentences, model_name, out_emb_file, max_s=512):\n",
        "    \"\"\"Extract sentence embeddings using one of the models from Sentence_transformers\n",
        "    See https://huggingface.co/sentence-transformers for list of supported models.\n",
        "\n",
        "    Args:\n",
        "    -----\n",
        "        sentences (list): List of sentences where every sentence in a plain string\n",
        "        model_name (str): Should match the name from sentence_transformers (eg: sentence-transformers/LaBSE)\n",
        "        out_emb_file (str): File where the embeddings are saved, so that we can\n",
        "            load them from the disk\n",
        "        max_s (int): Maximum sequence length, usually 512, but can be higher/lower of different models.\n",
        "    \"\"\"\n",
        "\n",
        "    if os.path.exists(out_emb_file):\n",
        "        embs = np.load(emb_file)\n",
        "        print('Re-loading sentence embeddings from file:', out_emb_file,)\n",
        "        print('  Embeddings shape:', embs.shape)\n",
        "\n",
        "        if embs.shape[0] != len(sentences):\n",
        "            print(\"Loaded embeddings {:d} != number of sentences {:d}.\".format(embs.shape[0], len(sentences)),\n",
        "                  \"Probably the embeddings loaded from the disk correspond to different set of sentences.\")\n",
        "\n",
        "    else:\n",
        "\n",
        "        print(\"Extracting embeddings..\")\n",
        "\n",
        "        model = SentenceTransformer(model_name)\n",
        "\n",
        "        # this should not exceed the max seq length that was used\n",
        "        # while training the model\n",
        "        model.max_sequence_length = max_s\n",
        "        # Consider using a GPU accelarator for this step\n",
        "        # and uncomment the following line\n",
        "        model.cuda()\n",
        "\n",
        "        embs = model.encode(sentences)\n",
        "\n",
        "        np.save(emb_file, embs)\n",
        "        print(\"Saved embeddings\", embs.shape, \"to\", emb_file)\n",
        "\n",
        "    return embs\n",
        ""
      ]
    },
    {
      "cell_type": "markdown",
      "id": "ad787dd3",
      "metadata": {
        "id": "ad787dd3"
      },
      "source": [
        "### Strategies to represent the dialogues within in conversation\n",
        "\n",
        "1. Treat each utterance independent of others (naive)\n",
        "2. Consider the `n` past history (or context) to represent current utterance.\n",
        "3. Consider the `n` past and `n` future utterances."
      ]
    },
    {
      "cell_type": "markdown",
      "id": "9d60fefc",
      "metadata": {
        "id": "9d60fefc"
      },
      "source": [
        "#### Strategy 1: naive"
      ]
    },
    {
      "cell_type": "code",
      "execution_count": 23,
      "id": "68629e91",
      "metadata": {
        "colab": {
          "base_uri": "https://localhost:8080/"
        },
        "id": "68629e91",
        "outputId": "77fcabe8-642b-46aa-f048-f5832c39f409"
      },
      "outputs": [
        {
          "output_type": "stream",
          "name": "stdout",
          "text": [
            "Flattened sentences (independent): 54446\n",
            "Re-loading sentence embeddings from file: cluster_multiwoz/restaurant_sent_embs.npy\n",
            "  Embeddings shape: (54446, 768)\n"
          ]
        }
      ],
      "source": [
        "# we will flatten the conversations into independent sentences, but keeping the order\n",
        "# We can try better strategies to obtain sentence embeddings,\n",
        "# eg: concatenating 1 or 2 previous sentences to the current one, etc.\n",
        "\n",
        "# strategy 1: treat every sentence independent of each other\n",
        "sentences_indep = []\n",
        "for sents in domain_convs:\n",
        "    sentences_indep.extend(sents)\n",
        "print(\"Flattened sentences (independent):\", len(sentences_indep))\n",
        "\n",
        "os.makedirs(\"cluster_multiwoz/\", exist_ok=True)\n",
        "\n",
        "model_name = \"sentence-transformers/LaBSE\"\n",
        "emb_file = f\"cluster_multiwoz/{domain}_sent_embs.npy\"\n",
        "\n",
        "embs_indep = extract_sentence_embeddings(sentences_indep, model_name, emb_file)"
      ]
    },
    {
      "cell_type": "markdown",
      "id": "381b6111",
      "metadata": {
        "id": "381b6111"
      },
      "source": [
        "#### Strategy 2: Combine past utterance with the current one"
      ]
    },
    {
      "cell_type": "code",
      "execution_count": 24,
      "id": "02fe5df3",
      "metadata": {
        "scrolled": false,
        "colab": {
          "base_uri": "https://localhost:8080/"
        },
        "id": "02fe5df3",
        "outputId": "d5eeea36-d54c-4573-b7b0-17ba4dff5959"
      },
      "outputs": [
        {
          "output_type": "stream",
          "name": "stdout",
          "text": [
            "Sentences prepended with past 1 history: 54446\n",
            "Re-loading sentence embeddings from file: cluster_multiwoz/restaurant_accum_h1_sent_embs.npy\n",
            "  Embeddings shape: (54446, 768)\n"
          ]
        }
      ],
      "source": [
        "# Running this cell will override the embeddings from previous cell\n",
        "# appending previouse sentence to the current one and extracting embeddings\n",
        "# sent_0, sent_0+sent_1,\n",
        "# Strategy 2: Prepend the current utterance with past utterance\n",
        "\n",
        "sentences_hist1 = []\n",
        "for sents in domain_convs:\n",
        "    history = \"\"\n",
        "    for i, sent in enumerate(sents):\n",
        "        sentences_hist1.append(history + sent)\n",
        "        history = sent + \" \"\n",
        "print(\"Sentences prepended with past 1 history:\", len(sentences_hist1))\n",
        "\n",
        "model_name = \"sentence-transformers/LaBSE\"\n",
        "emb_file = f\"cluster_multiwoz/{domain}_accum_h1_sent_embs.npy\"\n",
        "\n",
        "embs_hist1 = extract_sentence_embeddings(sentences_hist1, model_name, emb_file)"
      ]
    },
    {
      "cell_type": "markdown",
      "id": "30d5ed67",
      "metadata": {
        "id": "30d5ed67"
      },
      "source": [
        "### Selecting a smaller subset from the `domain=restaurant`\n",
        "- Skip this step for the first time.\n",
        "- Try to visualize the clusters with all the conversations, later, pick only a subset and visualize again.\n",
        "- In the following example, we will consider even a smaller subset, i.e., by selecting services that\n",
        "based on `restaurant` and `restaurant + taxi` booking.\n",
        "- In reality, we can assume that we will have such kind of metadata available for conversations."
      ]
    },
    {
      "cell_type": "code",
      "execution_count": 25,
      "id": "02fc30a2",
      "metadata": {
        "colab": {
          "base_uri": "https://localhost:8080/"
        },
        "id": "02fc30a2",
        "outputId": "7518bf2f-6f83-43b9-89b0-329c8fc3f713"
      },
      "outputs": [
        {
          "output_type": "stream",
          "name": "stdout",
          "text": [
            "# Subset of domain restaurant conversations: 1275\n",
            "# Subset sentences: 11110\n",
            "Corresponding subset embeddings: (11110, 768)\n"
          ]
        }
      ],
      "source": [
        "# Select only embeddings that belong to few services\n",
        "#\n",
        "def select_subset_serivces(subset_services, embeddings):\n",
        "\n",
        "    subset_sents = []\n",
        "    subset_embs = []\n",
        "    subset_domain_convs = []\n",
        "\n",
        "    j = 0\n",
        "    for i, serv in enumerate(services_selected):\n",
        "        # print(i, serv, len(domain_convs[i]), \"::\", j, \"->\", j+len(domain_convs[i]))\n",
        "        if serv in subset_services:\n",
        "            # print(i, serv, \"::\", j, \"->\", j+len(domain_convs[i]), '::', embs[j:j+len(domain_convs[i])].shape)\n",
        "\n",
        "            subset_domain_convs.append(domain_convs[i])\n",
        "            subset_embs.append(embeddings[j:j+len(domain_convs[i]),])\n",
        "\n",
        "            subset_sents.extend(domain_convs[i])\n",
        "\n",
        "        j += len(domain_convs[i])\n",
        "\n",
        "    return subset_domain_convs, subset_sents, subset_embs\n",
        "\n",
        "\n",
        "\n",
        "subset_services = (\"restaurant\", \"restaurant_taxi\")\n",
        "\n",
        "# we are can decide which embeddings to send\n",
        "# embeddings from strategy 1 or strategy 2 or custom strategy..\n",
        "subset_domain_convs, subset_sents, subset_embs = select_subset_serivces(subset_services, embs_hist1)\n",
        "\n",
        "print(f\"# Subset of domain {domain} conversations:\", len(subset_domain_convs))\n",
        "print(\"# Subset sentences:\", len(subset_sents))\n",
        "\n",
        "subset_embs = np.concatenate(subset_embs)\n",
        "print('Corresponding subset embeddings:', subset_embs.shape)\n"
      ]
    },
    {
      "cell_type": "code",
      "execution_count": 26,
      "id": "8d391077",
      "metadata": {
        "id": "8d391077"
      },
      "outputs": [],
      "source": [
        "def compute_transitions(domain_convs: List[list], cluster_ixs: np.ndarray) -> np.ndarray:\n",
        "    \"\"\"Compute the transitions from one cluster to the other, based on\n",
        "    the actual conversation/dialogue flow. Also compute the assigment of sentence embeddings to\n",
        "    the cluster indices - mainly start of dialogue and end of dialogue sentences\"\"\"\n",
        "\n",
        "    print('Computing transition matrix ..')\n",
        "    n_clusters = np.unique(cluster_ixs).size\n",
        "    print(' n_clusters', n_clusters)\n",
        "\n",
        "    soc_clusters = []  # start of conversation clusters\n",
        "    eoc_clusters = []  # end of conversation clusters\n",
        "    # transitions: row(from) - col(to)\n",
        "    transitions = np.zeros(shape=(n_clusters, n_clusters))\n",
        "\n",
        "    i = 0\n",
        "    k = 0\n",
        "    while i < len(domain_convs): # iterate over conversations/dialogs, where each conv is a seq of utts\n",
        "        j = 0\n",
        "        prev_cix = -1\n",
        "        while j < len(domain_convs[i]):  # iterate over utts in the current dialogue\n",
        "\n",
        "            cix = cluster_ixs[k]\n",
        "\n",
        "            if j == 0:  # start of conversation\n",
        "                soc_clusters.append(cix)\n",
        "            else:\n",
        "                # from, to\n",
        "                transitions[prev_cix, cix] += 1\n",
        "\n",
        "            prev_cix = deepcopy(cix)\n",
        "\n",
        "            k += 1\n",
        "            j += 1\n",
        "\n",
        "        # end of conversation\n",
        "        eoc_clusters.append(prev_cix)\n",
        "\n",
        "        i += 1\n",
        "\n",
        "    return transitions, np.asarray(soc_clusters), np.asarray(eoc_clusters)\n",
        "\n",
        "\n",
        "def get_cluster_assignments(occurrences):\n",
        "    \"\"\"Get percentage of embeddings assigned to each cluster\"\"\"\n",
        "\n",
        "    ixs, count = np.unique(occurrences, return_counts=True)\n",
        "    max_ix = np.argmax(count)\n",
        "    print(\n",
        "        \"Cluster ix:\",\n",
        "        np.array2string(ixs, precision=0, formatter={'int_kind': lambda x: \"%4d\" % x}, separator=' |')\n",
        "    )\n",
        "    print(\n",
        "        \"Percentage:\",\n",
        "        np.array2string(count * 100/count.sum(), precision=1,\n",
        "                        formatter={'float_kind': lambda x: \"%4.1f\" % x},\n",
        "                        separator=' |')\n",
        "    )\n",
        "    print(\"{:.1f} % from cluster index {:d} is the most dense.\".format(count[max_ix]*100./count.sum(), ixs[max_ix]))\n",
        "    return count/count.sum(), ixs"
      ]
    },
    {
      "cell_type": "markdown",
      "id": "db975d21",
      "metadata": {
        "id": "db975d21"
      },
      "source": [
        "#### Clustering with k-means\n",
        "- Here we will cluster the subst of the embeddings using simple k-means clustering.\n",
        "- You may also try other clustering strategies based on Gaussian Mixture Models or even neural network based models."
      ]
    },
    {
      "cell_type": "code",
      "execution_count": 27,
      "id": "268116ad",
      "metadata": {
        "colab": {
          "base_uri": "https://localhost:8080/"
        },
        "id": "268116ad",
        "outputId": "b84a27ba-4080-4dce-ce96-570184d81c16"
      },
      "outputs": [
        {
          "output_type": "stream",
          "name": "stdout",
          "text": [
            "Avg. utts per conversation: 14\n"
          ]
        }
      ],
      "source": [
        "# you may play with this number, but it is better to keep it between [avg_utts_per_conv/2, avg_utts_per_conv x 2]\n",
        "print(\"Avg. utts per conversation: {:.0f}\".format(avg_utts_per_conv))\n",
        "\n",
        "\n",
        "def run_kmeans(n_clusters, embs, seed=12345):\n",
        "    \"\"\"Cluster the given embeddings into the specified number of clusters\n",
        "    and return the hard cluster assignments\"\"\"\n",
        "\n",
        "    print(\"Clustering\", embs.shape[0], \"embeddings into\", n_clusters, \"clusters with k-means..\")\n",
        "\n",
        "    norm_embs = preprocessing.normalize(embs)\n",
        "    print(\"  Normalizing embeddings to have unit length..\")\n",
        "\n",
        "    kmeans = KMeans(n_clusters=n_clusters, random_state=seed, max_iter=1000)\n",
        "    pred_ixs = kmeans.fit_predict(norm_embs)\n",
        "    print('.. done')\n",
        "\n",
        "    return pred_ixs\n"
      ]
    },
    {
      "cell_type": "code",
      "execution_count": 28,
      "id": "3514d18e",
      "metadata": {
        "colab": {
          "base_uri": "https://localhost:8080/"
        },
        "id": "3514d18e",
        "outputId": "b38f0fa1-df3e-4dbe-9de9-e432794524c2"
      },
      "outputs": [
        {
          "output_type": "stream",
          "name": "stdout",
          "text": [
            "Clustering 54446 embeddings into 12 clusters with k-means..\n",
            "  Normalizing embeddings to have unit length..\n"
          ]
        },
        {
          "output_type": "stream",
          "name": "stderr",
          "text": [
            "/usr/local/lib/python3.10/dist-packages/sklearn/cluster/_kmeans.py:870: FutureWarning: The default value of `n_init` will change from 10 to 'auto' in 1.4. Set the value of `n_init` explicitly to suppress the warning\n",
            "  warnings.warn(\n"
          ]
        },
        {
          "output_type": "stream",
          "name": "stdout",
          "text": [
            ".. done\n"
          ]
        }
      ],
      "source": [
        "# pred_ixs = run_kmeans(12, embs_indep)  # kmeans with embeddings from strategy 1\n",
        "pred_ixs = run_kmeans(12, embs_hist1)  # kmeans with embeddings from strategy 2\n",
        "# pred_ixs = run_kmeans(12, subset_embs)  # kmeans with subset of embeddings strategy 2"
      ]
    },
    {
      "cell_type": "code",
      "execution_count": 30,
      "id": "008d794c",
      "metadata": {
        "colab": {
          "base_uri": "https://localhost:8080/"
        },
        "id": "008d794c",
        "outputId": "2da5462c-09a8-4450-8147-98019530218c"
      },
      "outputs": [
        {
          "output_type": "stream",
          "name": "stdout",
          "text": [
            "Cluster ix: [   0 |   1 |   2 |   3 |   4 |   5 |   6 |   7 |   8 |   9 |  10 |  11]\n",
            "Percentage: [ 6.1 | 7.2 | 5.7 | 5.4 | 8.5 | 9.2 | 9.4 |11.5 | 9.4 |13.3 | 4.0 |10.2]\n",
            "13.3 % from cluster index 9 is the most dense.\n"
          ]
        }
      ],
      "source": [
        "# Check if the embeddings are more or less equally distributed\n",
        "\n",
        "_ = get_cluster_assignments(pred_ixs)"
      ]
    },
    {
      "cell_type": "code",
      "execution_count": 31,
      "id": "aa318e11",
      "metadata": {
        "colab": {
          "base_uri": "https://localhost:8080/"
        },
        "id": "aa318e11",
        "outputId": "78af194f-6aa7-48fd-9bc1-cb25221b4277"
      },
      "outputs": [
        {
          "output_type": "stream",
          "name": "stdout",
          "text": [
            "Computing transition matrix ..\n",
            " n_clusters 12\n",
            "Transition matrix: (12, 12)\n",
            "\n",
            "Start of conversation..\n",
            "Cluster ix: [   0 |   1 |   2 |   3 |   4 |   6 |   7 |   8 |   9 |  11]\n",
            "Percentage: [ 0.0 | 7.2 | 0.2 |64.9 | 8.7 | 9.9 | 3.9 | 0.2 | 4.8 | 0.2]\n",
            "64.9 % from cluster index 3 is the most dense.\n",
            "\n",
            "End of conversation..\n",
            "Cluster ix: [   0 |   1 |   2 |   3 |   4 |   5 |   6 |   7 |   8 |   9 |  10 |  11]\n",
            "Percentage: [46.9 | 0.4 | 0.9 | 0.1 | 0.3 | 0.7 | 0.3 | 1.0 | 1.3 | 0.5 |46.3 | 1.1]\n",
            "46.9 % from cluster index 0 is the most dense.\n"
          ]
        }
      ],
      "source": [
        "trans, soc, eoc = compute_transitions(domain_convs, pred_ixs)  # strategy 1\n",
        "# trans, soc, eoc = compute_transitions(domain_convs, pred_ixs)  # strategy 2\n",
        "# trans, soc, eoc = compute_transitions(subset_domain_convs, pred_ixs)  # strategy 2 with subset\n",
        "print(\"Transition matrix:\", trans.shape)\n",
        "for i in range(trans.shape[0]):\n",
        "    trans[i, :] /= trans[i, :].sum()\n",
        "\n",
        "print(\"\\nStart of conversation..\")\n",
        "# get the clusters where the conversation usually BEGIN\n",
        "soc_prob, soc_ixs = get_cluster_assignments(soc)\n",
        "\n",
        "\n",
        "print(\"\\nEnd of conversation..\")\n",
        "# get the clusters where the conversation usually END\n",
        "eoc_prob, eoc_ixs = get_cluster_assignments(eoc)"
      ]
    },
    {
      "cell_type": "markdown",
      "id": "f758bdea",
      "metadata": {
        "id": "f758bdea"
      },
      "source": [
        "### Let us visualize the clusters and the transitions"
      ]
    },
    {
      "cell_type": "code",
      "execution_count": 32,
      "id": "d0920df3",
      "metadata": {
        "scrolled": false,
        "id": "d0920df3"
      },
      "outputs": [],
      "source": [
        "# Let us visualize the clusters and the transitions\n",
        "# We can set thresholds on the transition scores which will enable to control\n",
        "# the arcs that will be drawn\n",
        "\n",
        "def visualize_graph(trans, soc_prob, soc_ixs, eoc_prob, eoc_ixs, s_thresh=0.1, thresh=0.1):\n",
        "    # low threshold will show many arcs, higher threshold will only show dominant arcs\n",
        "    # s_thresh - threshold for drawing begin, end transitions\n",
        "    # thresh -  threshold for drawing an intermediate arc\n",
        "\n",
        "    # see https://graphviz.readthedocs.io/en/stable/  for more documentation on graphviz\n",
        "\n",
        "    dot = graphviz.Digraph(f\"MutliWoz_{domain}\", format='png', graph_attr={'rankdir':'LR'})  # initialize a graph\n",
        "\n",
        "    n_clusters = trans.shape[0]\n",
        "\n",
        "    # add BEGIN and END nodes\n",
        "    dot.node('BEGIN', shape='doublecircle')\n",
        "    dot.node('END', shape='doublecircle')\n",
        "\n",
        "    # Add a node representing each cluster\n",
        "    for i in range(n_clusters):\n",
        "        dot.node(str(i), shape='circle')\n",
        "\n",
        "    # draw arrows from BEGIN to that cluster(s) where the start sentences live\n",
        "    # given that they are above the `s_thresh`\n",
        "    for i, prob in enumerate(soc_prob):\n",
        "        if prob > s_thresh:\n",
        "            dot.edge('BEGIN', str(soc_ixs[i]), label=\"{:.2f}\".format(prob))\n",
        "            dot.node(str(soc_ixs[i]), fillcolor='cyan', style='filled')\n",
        "\n",
        "    # draw arrows from cluster(s) where the end sentences live to the END node\n",
        "    for i, prob in enumerate(eoc_prob):\n",
        "        if prob > s_thresh:\n",
        "            dot.edge(str(eoc_ixs[i]), 'END', label=\"{:.2f}\".format(prob))\n",
        "            dot.node(str(eoc_ixs[i]), fillcolor='pink', style='filled')\n",
        "\n",
        "    # draw intermediate arcs among the clusters where transitions > thresh\n",
        "\n",
        "    for row_ix in range(trans.shape[0]):  # row_ix represent FROM, col_ixs represent TO\n",
        "        row_trans = trans[row_ix, :] / trans[row_ix, :].sum()\n",
        "        thresh_ixs = np.where(row_trans > thresh)\n",
        "        if thresh_ixs[0].size > 0:\n",
        "            # print(row_ix, '->', thresh_ixs)\n",
        "            for col_ix in thresh_ixs[0]:\n",
        "                dot.edge(str(row_ix), str(col_ix), label=\"{:.2f}\".format(row_trans[col_ix]))\n",
        "\n",
        "    # show the image within the notebook\n",
        "    # dot.view() will open the image in an external window\n",
        "    return dot"
      ]
    },
    {
      "cell_type": "code",
      "execution_count": 33,
      "id": "b53b40c9",
      "metadata": {
        "colab": {
          "base_uri": "https://localhost:8080/",
          "height": 418
        },
        "id": "b53b40c9",
        "outputId": "b09d4b6e-afd7-4700-8117-01ee87e76a82"
      },
      "outputs": [
        {
          "output_type": "execute_result",
          "data": {
            "image/svg+xml": "<?xml version=\"1.0\" encoding=\"UTF-8\" standalone=\"no\"?>\n<!DOCTYPE svg PUBLIC \"-//W3C//DTD SVG 1.1//EN\"\n \"http://www.w3.org/Graphics/SVG/1.1/DTD/svg11.dtd\">\n<!-- Generated by graphviz version 2.43.0 (0)\n -->\n<!-- Title: MutliWoz_restaurant Pages: 1 -->\n<svg width=\"903pt\" height=\"297pt\"\n viewBox=\"0.00 0.00 902.58 297.50\" xmlns=\"http://www.w3.org/2000/svg\" xmlns:xlink=\"http://www.w3.org/1999/xlink\">\n<g id=\"graph0\" class=\"graph\" transform=\"scale(1 1) rotate(0) translate(4 293.5)\">\n<title>MutliWoz_restaurant</title>\n<polygon fill=\"white\" stroke=\"transparent\" points=\"-4,4 -4,-293.5 898.58,-293.5 898.58,4 -4,4\"/>\n<!-- BEGIN -->\n<g id=\"node1\" class=\"node\">\n<title>BEGIN</title>\n<ellipse fill=\"none\" stroke=\"black\" cx=\"41.7\" cy=\"-160.5\" rx=\"37.88\" ry=\"37.88\"/>\n<ellipse fill=\"none\" stroke=\"black\" cx=\"41.7\" cy=\"-160.5\" rx=\"41.89\" ry=\"41.89\"/>\n<text text-anchor=\"middle\" x=\"41.7\" y=\"-156.8\" font-family=\"Times,serif\" font-size=\"14.00\">BEGIN</text>\n</g>\n<!-- 3 -->\n<g id=\"node6\" class=\"node\">\n<title>3</title>\n<ellipse fill=\"cyan\" stroke=\"black\" cx=\"162.39\" cy=\"-160.5\" rx=\"18\" ry=\"18\"/>\n<text text-anchor=\"middle\" x=\"162.39\" y=\"-156.8\" font-family=\"Times,serif\" font-size=\"14.00\">3</text>\n</g>\n<!-- BEGIN&#45;&gt;3 -->\n<g id=\"edge1\" class=\"edge\">\n<title>BEGIN&#45;&gt;3</title>\n<path fill=\"none\" stroke=\"black\" d=\"M83.55,-160.5C100.27,-160.5 119.18,-160.5 134.17,-160.5\"/>\n<polygon fill=\"black\" stroke=\"black\" points=\"134.31,-164 144.31,-160.5 134.31,-157 134.31,-164\"/>\n<text text-anchor=\"middle\" x=\"113.89\" y=\"-164.3\" font-family=\"Times,serif\" font-size=\"14.00\">0.65</text>\n</g>\n<!-- END -->\n<g id=\"node2\" class=\"node\">\n<title>END</title>\n<ellipse fill=\"none\" stroke=\"black\" cx=\"861.98\" cy=\"-94.5\" rx=\"28.68\" ry=\"28.68\"/>\n<ellipse fill=\"none\" stroke=\"black\" cx=\"861.98\" cy=\"-94.5\" rx=\"32.7\" ry=\"32.7\"/>\n<text text-anchor=\"middle\" x=\"861.98\" y=\"-90.8\" font-family=\"Times,serif\" font-size=\"14.00\">END</text>\n</g>\n<!-- 0 -->\n<g id=\"node3\" class=\"node\">\n<title>0</title>\n<ellipse fill=\"pink\" stroke=\"black\" cx=\"650.39\" cy=\"-101.5\" rx=\"18\" ry=\"18\"/>\n<text text-anchor=\"middle\" x=\"650.39\" y=\"-97.8\" font-family=\"Times,serif\" font-size=\"14.00\">0</text>\n</g>\n<!-- 0&#45;&gt;END -->\n<g id=\"edge2\" class=\"edge\">\n<title>0&#45;&gt;END</title>\n<path fill=\"none\" stroke=\"black\" d=\"M668.44,-104.69C674.13,-105.69 680.52,-106.72 686.39,-107.5 705.42,-110.01 710.22,-110.61 729.39,-111.5 746.7,-112.3 751.13,-113.07 768.39,-111.5 785.34,-109.95 803.83,-106.85 819.8,-103.71\"/>\n<polygon fill=\"black\" stroke=\"black\" points=\"820.79,-107.09 829.89,-101.66 819.39,-100.23 820.79,-107.09\"/>\n<text text-anchor=\"middle\" x=\"748.89\" y=\"-116.3\" font-family=\"Times,serif\" font-size=\"14.00\">0.47</text>\n</g>\n<!-- 0&#45;&gt;0 -->\n<g id=\"edge4\" class=\"edge\">\n<title>0&#45;&gt;0</title>\n<path fill=\"none\" stroke=\"black\" d=\"M642.02,-117.79C640.01,-127.89 642.8,-137.5 650.39,-137.5 655.25,-137.5 658.15,-133.55 659.07,-128.06\"/>\n<polygon fill=\"black\" stroke=\"black\" points=\"662.56,-127.68 658.75,-117.79 655.56,-127.89 662.56,-127.68\"/>\n<text text-anchor=\"middle\" x=\"650.39\" y=\"-141.3\" font-family=\"Times,serif\" font-size=\"14.00\">0.61</text>\n</g>\n<!-- 10 -->\n<g id=\"node13\" class=\"node\">\n<title>10</title>\n<ellipse fill=\"pink\" stroke=\"black\" cx=\"748.89\" cy=\"-50.5\" rx=\"19.5\" ry=\"19.5\"/>\n<text text-anchor=\"middle\" x=\"748.89\" y=\"-46.8\" font-family=\"Times,serif\" font-size=\"14.00\">10</text>\n</g>\n<!-- 0&#45;&gt;10 -->\n<g id=\"edge5\" class=\"edge\">\n<title>0&#45;&gt;10</title>\n<path fill=\"none\" stroke=\"black\" d=\"M667.64,-95.86C679.97,-91.31 697.18,-84.39 711.39,-76.5 715.83,-74.03 720.38,-71.13 724.7,-68.18\"/>\n<polygon fill=\"black\" stroke=\"black\" points=\"727.01,-70.83 733.12,-62.17 722.94,-65.13 727.01,-70.83\"/>\n<text text-anchor=\"middle\" x=\"698.89\" y=\"-92.3\" font-family=\"Times,serif\" font-size=\"14.00\">0.24</text>\n</g>\n<!-- 1 -->\n<g id=\"node4\" class=\"node\">\n<title>1</title>\n<ellipse fill=\"none\" stroke=\"black\" cx=\"356.39\" cy=\"-59.5\" rx=\"18\" ry=\"18\"/>\n<text text-anchor=\"middle\" x=\"356.39\" y=\"-55.8\" font-family=\"Times,serif\" font-size=\"14.00\">1</text>\n</g>\n<!-- 1&#45;&gt;1 -->\n<g id=\"edge6\" class=\"edge\">\n<title>1&#45;&gt;1</title>\n<path fill=\"none\" stroke=\"black\" d=\"M348.03,-75.79C346.01,-85.89 348.8,-95.5 356.39,-95.5 361.26,-95.5 364.15,-91.55 365.07,-86.06\"/>\n<polygon fill=\"black\" stroke=\"black\" points=\"368.56,-85.68 364.76,-75.79 361.56,-85.89 368.56,-85.68\"/>\n<text text-anchor=\"middle\" x=\"356.39\" y=\"-99.3\" font-family=\"Times,serif\" font-size=\"14.00\">0.66</text>\n</g>\n<!-- 4 -->\n<g id=\"node7\" class=\"node\">\n<title>4</title>\n<ellipse fill=\"none\" stroke=\"black\" cx=\"453.39\" cy=\"-19.5\" rx=\"18\" ry=\"18\"/>\n<text text-anchor=\"middle\" x=\"453.39\" y=\"-15.8\" font-family=\"Times,serif\" font-size=\"14.00\">4</text>\n</g>\n<!-- 1&#45;&gt;4 -->\n<g id=\"edge7\" class=\"edge\">\n<title>1&#45;&gt;4</title>\n<path fill=\"none\" stroke=\"black\" d=\"M373.51,-52.71C388.2,-46.53 410.14,-37.29 427.16,-30.12\"/>\n<polygon fill=\"black\" stroke=\"black\" points=\"428.66,-33.29 436.52,-26.18 425.94,-26.84 428.66,-33.29\"/>\n<text text-anchor=\"middle\" x=\"404.89\" y=\"-48.3\" font-family=\"Times,serif\" font-size=\"14.00\">0.09</text>\n</g>\n<!-- 8 -->\n<g id=\"node11\" class=\"node\">\n<title>8</title>\n<ellipse fill=\"none\" stroke=\"black\" cx=\"453.39\" cy=\"-106.5\" rx=\"18\" ry=\"18\"/>\n<text text-anchor=\"middle\" x=\"453.39\" y=\"-102.8\" font-family=\"Times,serif\" font-size=\"14.00\">8</text>\n</g>\n<!-- 1&#45;&gt;8 -->\n<g id=\"edge8\" class=\"edge\">\n<title>1&#45;&gt;8</title>\n<path fill=\"none\" stroke=\"black\" d=\"M373.31,-66.61C385.48,-72.12 402.61,-80.05 417.39,-87.5 420.87,-89.25 424.51,-91.15 428.07,-93.05\"/>\n<polygon fill=\"black\" stroke=\"black\" points=\"426.71,-96.29 437.17,-97.97 430.04,-90.13 426.71,-96.29\"/>\n<text text-anchor=\"middle\" x=\"404.89\" y=\"-91.3\" font-family=\"Times,serif\" font-size=\"14.00\">0.10</text>\n</g>\n<!-- 2 -->\n<g id=\"node5\" class=\"node\">\n<title>2</title>\n<ellipse fill=\"none\" stroke=\"black\" cx=\"551.89\" cy=\"-107.5\" rx=\"18\" ry=\"18\"/>\n<text text-anchor=\"middle\" x=\"551.89\" y=\"-103.8\" font-family=\"Times,serif\" font-size=\"14.00\">2</text>\n</g>\n<!-- 2&#45;&gt;0 -->\n<g id=\"edge9\" class=\"edge\">\n<title>2&#45;&gt;0</title>\n<path fill=\"none\" stroke=\"black\" d=\"M570.14,-106.43C584.55,-105.53 605.36,-104.24 622.03,-103.2\"/>\n<polygon fill=\"black\" stroke=\"black\" points=\"622.52,-106.68 632.29,-102.56 622.09,-99.69 622.52,-106.68\"/>\n<text text-anchor=\"middle\" x=\"601.89\" y=\"-109.3\" font-family=\"Times,serif\" font-size=\"14.00\">0.16</text>\n</g>\n<!-- 2&#45;&gt;2 -->\n<g id=\"edge10\" class=\"edge\">\n<title>2&#45;&gt;2</title>\n<path fill=\"none\" stroke=\"black\" d=\"M543.53,-123.79C541.51,-133.89 544.3,-143.5 551.89,-143.5 556.76,-143.5 559.65,-139.55 560.57,-134.06\"/>\n<polygon fill=\"black\" stroke=\"black\" points=\"564.06,-133.68 560.26,-123.79 557.06,-133.89 564.06,-133.68\"/>\n<text text-anchor=\"middle\" x=\"551.89\" y=\"-147.3\" font-family=\"Times,serif\" font-size=\"14.00\">0.61</text>\n</g>\n<!-- 3&#45;&gt;3 -->\n<g id=\"edge11\" class=\"edge\">\n<title>3&#45;&gt;3</title>\n<path fill=\"none\" stroke=\"black\" d=\"M154.03,-176.79C152.01,-186.89 154.8,-196.5 162.39,-196.5 167.26,-196.5 170.15,-192.55 171.07,-187.06\"/>\n<polygon fill=\"black\" stroke=\"black\" points=\"174.56,-186.68 170.76,-176.79 167.56,-186.89 174.56,-186.68\"/>\n<text text-anchor=\"middle\" x=\"162.39\" y=\"-200.3\" font-family=\"Times,serif\" font-size=\"14.00\">0.09</text>\n</g>\n<!-- 7 -->\n<g id=\"node10\" class=\"node\">\n<title>7</title>\n<ellipse fill=\"none\" stroke=\"black\" cx=\"356.39\" cy=\"-174.5\" rx=\"18\" ry=\"18\"/>\n<text text-anchor=\"middle\" x=\"356.39\" y=\"-170.8\" font-family=\"Times,serif\" font-size=\"14.00\">7</text>\n</g>\n<!-- 3&#45;&gt;7 -->\n<g id=\"edge12\" class=\"edge\">\n<title>3&#45;&gt;7</title>\n<path fill=\"none\" stroke=\"black\" d=\"M179.98,-164.92C195.67,-168.86 219.94,-174.32 241.39,-176.5 270.98,-179.5 305.09,-178.29 328.24,-176.78\"/>\n<polygon fill=\"black\" stroke=\"black\" points=\"328.62,-180.26 338.34,-176.05 328.12,-173.28 328.62,-180.26\"/>\n<text text-anchor=\"middle\" x=\"259.39\" y=\"-181.3\" font-family=\"Times,serif\" font-size=\"14.00\">0.22</text>\n</g>\n<!-- 9 -->\n<g id=\"node12\" class=\"node\">\n<title>9</title>\n<ellipse fill=\"none\" stroke=\"black\" cx=\"259.39\" cy=\"-116.5\" rx=\"18\" ry=\"18\"/>\n<text text-anchor=\"middle\" x=\"259.39\" y=\"-112.8\" font-family=\"Times,serif\" font-size=\"14.00\">9</text>\n</g>\n<!-- 3&#45;&gt;9 -->\n<g id=\"edge13\" class=\"edge\">\n<title>3&#45;&gt;9</title>\n<path fill=\"none\" stroke=\"black\" d=\"M179.08,-153.23C193.79,-146.42 216.05,-136.11 233.24,-128.15\"/>\n<polygon fill=\"black\" stroke=\"black\" points=\"235.08,-131.15 242.68,-123.77 232.14,-124.8 235.08,-131.15\"/>\n<text text-anchor=\"middle\" x=\"210.89\" y=\"-147.3\" font-family=\"Times,serif\" font-size=\"14.00\">0.53</text>\n</g>\n<!-- 4&#45;&gt;4 -->\n<g id=\"edge14\" class=\"edge\">\n<title>4&#45;&gt;4</title>\n<path fill=\"none\" stroke=\"black\" d=\"M445.03,-35.79C443.01,-45.89 445.8,-55.5 453.39,-55.5 458.26,-55.5 461.15,-51.55 462.07,-46.06\"/>\n<polygon fill=\"black\" stroke=\"black\" points=\"465.56,-45.68 461.76,-35.79 458.56,-45.89 465.56,-45.68\"/>\n<text text-anchor=\"middle\" x=\"453.39\" y=\"-59.3\" font-family=\"Times,serif\" font-size=\"14.00\">0.47</text>\n</g>\n<!-- 11 -->\n<g id=\"node14\" class=\"node\">\n<title>11</title>\n<ellipse fill=\"none\" stroke=\"black\" cx=\"551.89\" cy=\"-19.5\" rx=\"19.5\" ry=\"19.5\"/>\n<text text-anchor=\"middle\" x=\"551.89\" y=\"-15.8\" font-family=\"Times,serif\" font-size=\"14.00\">11</text>\n</g>\n<!-- 4&#45;&gt;11 -->\n<g id=\"edge15\" class=\"edge\">\n<title>4&#45;&gt;11</title>\n<path fill=\"none\" stroke=\"black\" d=\"M471.65,-19.5C485.61,-19.5 505.58,-19.5 521.98,-19.5\"/>\n<polygon fill=\"black\" stroke=\"black\" points=\"522.14,-23 532.14,-19.5 522.14,-16 522.14,-23\"/>\n<text text-anchor=\"middle\" x=\"501.89\" y=\"-23.3\" font-family=\"Times,serif\" font-size=\"14.00\">0.18</text>\n</g>\n<!-- 5 -->\n<g id=\"node8\" class=\"node\">\n<title>5</title>\n<ellipse fill=\"none\" stroke=\"black\" cx=\"551.89\" cy=\"-194.5\" rx=\"18\" ry=\"18\"/>\n<text text-anchor=\"middle\" x=\"551.89\" y=\"-190.8\" font-family=\"Times,serif\" font-size=\"14.00\">5</text>\n</g>\n<!-- 5&#45;&gt;0 -->\n<g id=\"edge16\" class=\"edge\">\n<title>5&#45;&gt;0</title>\n<path fill=\"none\" stroke=\"black\" d=\"M565.51,-182.34C581.76,-166.68 610.21,-139.26 629.41,-120.75\"/>\n<polygon fill=\"black\" stroke=\"black\" points=\"632,-123.12 636.77,-113.66 627.14,-118.08 632,-123.12\"/>\n<text text-anchor=\"middle\" x=\"601.89\" y=\"-162.3\" font-family=\"Times,serif\" font-size=\"14.00\">0.16</text>\n</g>\n<!-- 5&#45;&gt;5 -->\n<g id=\"edge17\" class=\"edge\">\n<title>5&#45;&gt;5</title>\n<path fill=\"none\" stroke=\"black\" d=\"M543.53,-210.79C541.51,-220.89 544.3,-230.5 551.89,-230.5 556.76,-230.5 559.65,-226.55 560.57,-221.06\"/>\n<polygon fill=\"black\" stroke=\"black\" points=\"564.06,-220.68 560.26,-210.79 557.06,-220.89 564.06,-220.68\"/>\n<text text-anchor=\"middle\" x=\"551.89\" y=\"-234.3\" font-family=\"Times,serif\" font-size=\"14.00\">0.42</text>\n</g>\n<!-- 6 -->\n<g id=\"node9\" class=\"node\">\n<title>6</title>\n<ellipse fill=\"none\" stroke=\"black\" cx=\"41.7\" cy=\"-238.5\" rx=\"18\" ry=\"18\"/>\n<text text-anchor=\"middle\" x=\"41.7\" y=\"-234.8\" font-family=\"Times,serif\" font-size=\"14.00\">6</text>\n</g>\n<!-- 6&#45;&gt;6 -->\n<g id=\"edge18\" class=\"edge\">\n<title>6&#45;&gt;6</title>\n<path fill=\"none\" stroke=\"black\" d=\"M29.94,-252.54C25.54,-263.41 29.46,-274.5 41.7,-274.5 50.11,-274.5 54.59,-269.26 55.14,-262.45\"/>\n<polygon fill=\"black\" stroke=\"black\" points=\"58.58,-261.81 53.45,-252.54 51.68,-262.99 58.58,-261.81\"/>\n<text text-anchor=\"middle\" x=\"41.7\" y=\"-278.3\" font-family=\"Times,serif\" font-size=\"14.00\">0.75</text>\n</g>\n<!-- 7&#45;&gt;7 -->\n<g id=\"edge19\" class=\"edge\">\n<title>7&#45;&gt;7</title>\n<path fill=\"none\" stroke=\"black\" d=\"M348.03,-190.79C346.01,-200.89 348.8,-210.5 356.39,-210.5 361.26,-210.5 364.15,-206.55 365.07,-201.06\"/>\n<polygon fill=\"black\" stroke=\"black\" points=\"368.56,-200.68 364.76,-190.79 361.56,-200.89 368.56,-200.68\"/>\n<text text-anchor=\"middle\" x=\"356.39\" y=\"-214.3\" font-family=\"Times,serif\" font-size=\"14.00\">0.40</text>\n</g>\n<!-- 7&#45;&gt;8 -->\n<g id=\"edge20\" class=\"edge\">\n<title>7&#45;&gt;8</title>\n<path fill=\"none\" stroke=\"black\" d=\"M371.41,-164.46C386.85,-153.42 411.88,-135.5 430.03,-122.5\"/>\n<polygon fill=\"black\" stroke=\"black\" points=\"432.22,-125.24 438.32,-116.57 428.15,-119.55 432.22,-125.24\"/>\n<text text-anchor=\"middle\" x=\"404.89\" y=\"-152.3\" font-family=\"Times,serif\" font-size=\"14.00\">0.16</text>\n</g>\n<!-- 7&#45;&gt;11 -->\n<g id=\"edge21\" class=\"edge\">\n<title>7&#45;&gt;11</title>\n<path fill=\"none\" stroke=\"black\" d=\"M373.41,-181.2C404.56,-193.05 473.78,-213.4 514.39,-179.5 531.56,-165.17 527.14,-102.23 532.39,-80.5 535.03,-69.61 538.47,-57.79 541.67,-47.48\"/>\n<polygon fill=\"black\" stroke=\"black\" points=\"545.06,-48.36 544.75,-37.77 538.39,-46.24 545.06,-48.36\"/>\n<text text-anchor=\"middle\" x=\"453.39\" y=\"-201.3\" font-family=\"Times,serif\" font-size=\"14.00\">0.19</text>\n</g>\n<!-- 8&#45;&gt;5 -->\n<g id=\"edge22\" class=\"edge\">\n<title>8&#45;&gt;5</title>\n<path fill=\"none\" stroke=\"black\" d=\"M467.41,-118.37C483.61,-133.14 511.48,-158.56 530.52,-175.92\"/>\n<polygon fill=\"black\" stroke=\"black\" points=\"528.34,-178.67 538.08,-182.82 533.05,-173.49 528.34,-178.67\"/>\n<text text-anchor=\"middle\" x=\"501.89\" y=\"-164.3\" font-family=\"Times,serif\" font-size=\"14.00\">0.34</text>\n</g>\n<!-- 8&#45;&gt;8 -->\n<g id=\"edge23\" class=\"edge\">\n<title>8&#45;&gt;8</title>\n<path fill=\"none\" stroke=\"black\" d=\"M445.03,-122.79C443.01,-132.89 445.8,-142.5 453.39,-142.5 458.26,-142.5 461.15,-138.55 462.07,-133.06\"/>\n<polygon fill=\"black\" stroke=\"black\" points=\"465.56,-132.68 461.76,-122.79 458.56,-132.89 465.56,-132.68\"/>\n<text text-anchor=\"middle\" x=\"453.39\" y=\"-146.3\" font-family=\"Times,serif\" font-size=\"14.00\">0.45</text>\n</g>\n<!-- 9&#45;&gt;7 -->\n<g id=\"edge24\" class=\"edge\">\n<title>9&#45;&gt;7</title>\n<path fill=\"none\" stroke=\"black\" d=\"M275.24,-125.56C290.44,-134.84 314.28,-149.4 332.01,-160.22\"/>\n<polygon fill=\"black\" stroke=\"black\" points=\"330.29,-163.28 340.65,-165.5 333.94,-157.3 330.29,-163.28\"/>\n<text text-anchor=\"middle\" x=\"307.89\" y=\"-155.3\" font-family=\"Times,serif\" font-size=\"14.00\">0.22</text>\n</g>\n<!-- 9&#45;&gt;9 -->\n<g id=\"edge25\" class=\"edge\">\n<title>9&#45;&gt;9</title>\n<path fill=\"none\" stroke=\"black\" d=\"M251.03,-132.79C249.01,-142.89 251.8,-152.5 259.39,-152.5 264.26,-152.5 267.15,-148.55 268.07,-143.06\"/>\n<polygon fill=\"black\" stroke=\"black\" points=\"271.56,-142.68 267.76,-132.79 264.56,-142.89 271.56,-142.68\"/>\n<text text-anchor=\"middle\" x=\"259.39\" y=\"-156.3\" font-family=\"Times,serif\" font-size=\"14.00\">0.57</text>\n</g>\n<!-- 10&#45;&gt;END -->\n<g id=\"edge3\" class=\"edge\">\n<title>10&#45;&gt;END</title>\n<path fill=\"none\" stroke=\"black\" d=\"M767.25,-57.37C781.8,-63.14 803.13,-71.58 821.76,-78.96\"/>\n<polygon fill=\"black\" stroke=\"black\" points=\"820.63,-82.28 831.21,-82.71 823.2,-75.77 820.63,-82.28\"/>\n<text text-anchor=\"middle\" x=\"798.89\" y=\"-78.3\" font-family=\"Times,serif\" font-size=\"14.00\">0.46</text>\n</g>\n<!-- 10&#45;&gt;0 -->\n<g id=\"edge26\" class=\"edge\">\n<title>10&#45;&gt;0</title>\n<path fill=\"none\" stroke=\"black\" d=\"M729.28,-49.01C716.46,-48.82 699.45,-50.26 686.39,-57.5 678.04,-62.12 670.97,-69.63 665.41,-77.15\"/>\n<polygon fill=\"black\" stroke=\"black\" points=\"662.27,-75.55 659.6,-85.8 668.08,-79.45 662.27,-75.55\"/>\n<text text-anchor=\"middle\" x=\"698.89\" y=\"-61.3\" font-family=\"Times,serif\" font-size=\"14.00\">0.19</text>\n</g>\n<!-- 10&#45;&gt;10 -->\n<g id=\"edge27\" class=\"edge\">\n<title>10&#45;&gt;10</title>\n<path fill=\"none\" stroke=\"black\" d=\"M740.38,-68.24C738.65,-78.47 741.48,-88 748.89,-88 753.63,-88 756.5,-84.09 757.49,-78.59\"/>\n<polygon fill=\"black\" stroke=\"black\" points=\"760.99,-78.21 757.39,-68.24 753.99,-78.28 760.99,-78.21\"/>\n<text text-anchor=\"middle\" x=\"748.89\" y=\"-91.8\" font-family=\"Times,serif\" font-size=\"14.00\">0.70</text>\n</g>\n<!-- 11&#45;&gt;0 -->\n<g id=\"edge28\" class=\"edge\">\n<title>11&#45;&gt;0</title>\n<path fill=\"none\" stroke=\"black\" d=\"M567.55,-31.95C583.73,-45.71 609.93,-67.97 628.32,-83.59\"/>\n<polygon fill=\"black\" stroke=\"black\" points=\"626.26,-86.44 636.15,-90.25 630.8,-81.11 626.26,-86.44\"/>\n<text text-anchor=\"middle\" x=\"601.89\" y=\"-74.3\" font-family=\"Times,serif\" font-size=\"14.00\">0.09</text>\n</g>\n<!-- 11&#45;&gt;10 -->\n<g id=\"edge29\" class=\"edge\">\n<title>11&#45;&gt;10</title>\n<path fill=\"none\" stroke=\"black\" d=\"M571.24,-22.41C605.35,-27.84 678.77,-39.51 719.4,-45.97\"/>\n<polygon fill=\"black\" stroke=\"black\" points=\"719.02,-49.45 729.45,-47.57 720.12,-42.54 719.02,-49.45\"/>\n<text text-anchor=\"middle\" x=\"650.39\" y=\"-42.3\" font-family=\"Times,serif\" font-size=\"14.00\">0.12</text>\n</g>\n<!-- 11&#45;&gt;11 -->\n<g id=\"edge30\" class=\"edge\">\n<title>11&#45;&gt;11</title>\n<path fill=\"none\" stroke=\"black\" d=\"M543.39,-37.24C541.65,-47.47 544.49,-57 551.89,-57 556.64,-57 559.5,-53.09 560.5,-47.59\"/>\n<polygon fill=\"black\" stroke=\"black\" points=\"563.99,-47.21 560.4,-37.24 556.99,-47.28 563.99,-47.21\"/>\n<text text-anchor=\"middle\" x=\"551.89\" y=\"-60.8\" font-family=\"Times,serif\" font-size=\"14.00\">0.50</text>\n</g>\n</g>\n</svg>\n",
            "text/plain": [
              "<graphviz.graphs.Digraph at 0x7fb2e44519c0>"
            ]
          },
          "metadata": {},
          "execution_count": 33
        }
      ],
      "source": [
        "dot = visualize_graph(trans, soc_prob, soc_ixs, eoc_prob, eoc_ixs, s_thresh=0.1, thresh=0.09)\n",
        "dot"
      ]
    },
    {
      "cell_type": "markdown",
      "id": "c07a616b",
      "metadata": {
        "id": "c07a616b"
      },
      "source": [
        "### What does each cluster (node) actually represent :\n",
        "* Can we get any representative utterances from the dialogues ?\n",
        "* Can we get any representative words (word cloud) for each cluster ?\n",
        "* Can we automatically identify the underlying intents / slot values for each cluster ?"
      ]
    },
    {
      "cell_type": "code",
      "execution_count": 34,
      "id": "452dcc79",
      "metadata": {
        "id": "452dcc79"
      },
      "outputs": [],
      "source": [
        "def get_most_representative_words(sentences: list, pred_ixs: np.ndarray):\n",
        "    \"\"\"Get most representative words per each cluster, based on\n",
        "    relative counts normalized to yield probabilities\n",
        "    \"\"\"\n",
        "    n_clusters = np.max(pred_ixs) + 1\n",
        "\n",
        "    count_vect = CountVectorizer(stop_words='english', lowercase=True, strip_accents=None, min_df=2)\n",
        "    counts = count_vect.fit_transform(sentences)\n",
        "\n",
        "    print('counts (n_sentences x vocab_size):', counts.shape)\n",
        "    int2vocab = {}\n",
        "    for vocab, idx in count_vect.vocabulary_.items():\n",
        "        int2vocab[idx] = vocab\n",
        "\n",
        "    # cluster assignments to sentences in sparse format\n",
        "    # shape = (n_clusters x n_sentences)\n",
        "    sparse_cixs = sparse.csr_matrix((np.ones(len(pred_ixs,)), (pred_ixs, np.arange(len(pred_ixs)))))\n",
        "\n",
        "    # cumulative word count per cluster\n",
        "    wc_per_cluster = sparse_cixs.dot(counts)\n",
        "    print('n_clusters x vocab_size:', wc_per_cluster.shape, type(wc_per_cluster))\n",
        "\n",
        "    prob_per_cluster = wc_per_cluster / wc_per_cluster.sum(axis=0)\n",
        "\n",
        "    # print(prob_per_cluster.shape)\n",
        "    print()\n",
        "\n",
        "    top_k = 15  # print TOP K words per cluster\n",
        "\n",
        "    for i in range(n_clusters):\n",
        "        sort_ixs = np.argsort(prob_per_cluster[i, :].A.squeeze())[::-1]\n",
        "        print(\"= Cluster\", i, end=\"=\\n \")\n",
        "        for j in range(top_k):\n",
        "            print(int2vocab[sort_ixs[j]], end=\", \")\n",
        "        print(\"\\n\")\n"
      ]
    },
    {
      "cell_type": "code",
      "execution_count": 35,
      "id": "a6401bf9",
      "metadata": {
        "colab": {
          "base_uri": "https://localhost:8080/"
        },
        "id": "a6401bf9",
        "outputId": "880ca616-b29e-435d-b492-8c720c905f97"
      },
      "outputs": [
        {
          "output_type": "stream",
          "name": "stdout",
          "text": [
            "counts (n_sentences x vocab_size): (54446, 8468)\n",
            "n_clusters x vocab_size: (12, 8468) <class 'scipy.sparse._csr.csr_matrix'>\n",
            "\n",
            "= Cluster 0=\n",
            " confirming, awe, maintenance, inquiries, thnks, thankl, jaja, assisted, helpline, demand, obtain, interaction, hasn, apology, alls, \n",
            "\n",
            "= Cluster 1=\n",
            " frills, quest, hostel, candidates, hotal, inspire, foru, commit, motel, compare, guesthoise, cityroomzs, valued, paring, complimentary, \n",
            "\n",
            "= Cluster 2=\n",
            " 07799680227, 07656739082, 07658312417, 07658935119, 0766024206, 07664553144, 07669345707, 07669997265, 07670621306, 07672513904, 07673977358, 07674543654, 07675725181, 07675976580, 07690050237, \n",
            "\n",
            "= Cluster 3=\n",
            " blow, buses, scale, medium, sum, competitors, almentum, constrained, strip, playground, mutiple, darling, restrant, restauant, decent, \n",
            "\n",
            "= Cluster 4=\n",
            " exhibit, expresses, pizze, complexes, excitement, guidance, exhange, atractions, attract, uk, belt, kill, topic, directory, africa, \n",
            "\n",
            "= Cluster 5=\n",
            " zzaa5fy2, sei1me8k, da8chtds, dakq9zbn, daqee9bh, dbun9luj, dci7oe9w, ddlkgevp, dey84btq, df32qq7o, sdy23j83, dfebh5d1, dg9tsiva, sed9s4bh, dgdl8o65, \n",
            "\n",
            "= Cluster 6=\n",
            " deaprting, tr2835, tr2503, tr2515, tr2519, tr2621, tr2687, tr2696, tr2730, tr2759, tr2815, tr2831, tr2833, tr2840, tr2365, \n",
            "\n",
            "= Cluster 7=\n",
            " 3355, hhqdga03, 017, epensive, expinsive, aycp806a, ycqwegos, fitbillies, foodon, 0122568988, franky, 335, h7lu2ipf, hakks, hat, \n",
            "\n",
            "= Cluster 8=\n",
            " begun, attempt, munber, hectic, cancellation, starters, timeslot, tat, requesting, event, tommorow, etiher, reported, recurring, 1pm, \n",
            "\n",
            "= Cluster 9=\n",
            " steakhouses, polunesian, changing, elaborate, portugeuese, approve, discovering, chain, certre, mentioning, skip, asain, asia, specialize, polenta, \n",
            "\n",
            "= Cluster 10=\n",
            " likewise, click, byeeee, disconnect, andhave, sweat, farewell, meal, hank, tr3078, researching, emg78yr0, ta, 5m7m9rn1, goobye, \n",
            "\n",
            "= Cluster 11=\n",
            " 5664, 351880, 362433, suspect, 356354, 356060, 355, 354382, 353110, 352607, hone, 350420, 367660, locdated, hosptital, \n",
            "\n"
          ]
        }
      ],
      "source": [
        "get_most_representative_words(sentences_hist1, pred_ixs)\n"
      ]
    },
    {
      "cell_type": "code",
      "execution_count": 37,
      "id": "a8b09b43",
      "metadata": {
        "colab": {
          "base_uri": "https://localhost:8080/",
          "height": 472
        },
        "id": "a8b09b43",
        "outputId": "d39843db-7927-4036-b507-475faddcbe99"
      },
      "outputs": [
        {
          "output_type": "display_data",
          "data": {
            "text/plain": [
              "<Figure size 640x480 with 2 Axes>"
            ],
            "image/png": "[encoded data removed]"
          },
          "metadata": {}
        }
      ],
      "source": [
        "fig = plt.figure(num=1)\n",
        "\n",
        "n_clusters = np.max(pred_ixs) + 1\n",
        "\n",
        "# https://matplotlib.org/stable/tutorials/colors/colormaps.html\n",
        "im = plt.imshow(trans, cmap='Purples')\n",
        "\n",
        "plt.xticks(np.arange(n_clusters))\n",
        "plt.yticks(np.arange(n_clusters))\n",
        "\n",
        "plt.ylabel(\"\\\"From\\\" cluster\")\n",
        "plt.xlabel(\"\\\"To\\\" cluster\")\n",
        "\n",
        "plt.title(\"Transitions among clusters\")\n",
        "\n",
        "_ = plt.colorbar(im)"
      ]
    },
    {
      "cell_type": "markdown",
      "id": "c2244fbc",
      "metadata": {
        "id": "c2244fbc"
      },
      "source": [
        "- At this point, you can stop and go back and try\n",
        "1. different strategies to represent sentences\n",
        "2. and/or use different model to extract embeddings\n",
        "3. and/or use different number of clusters or clustering techniques such as Agglomerative Hierarchical Clustering, etc."
      ]
    },
    {
      "cell_type": "markdown",
      "id": "30e98531",
      "metadata": {
        "id": "30e98531"
      },
      "source": [
        "# Advanced:\n",
        "- Below, we can train a model to represent our data, i.e., sentences from one of the strategies.\n",
        "- Then, we can extract most representative words per cluster."
      ]
    },
    {
      "cell_type": "markdown",
      "id": "7950a388",
      "metadata": {
        "id": "7950a388"
      },
      "source": [
        "### The following steps describe the generative process of our model\n",
        "\n",
        "1. Given a vocabulary of size $W$, and corresponding $k$ dimensional-word embeddings or a $k$-dimensional subspace defined by\n",
        "\n",
        "    $\\mathbf{E} \\in \\mathbb{R}^{W \\times k}$\n",
        "\n",
        "2. For each document $d=1 \\ldots D$\n",
        "\n",
        "    Sample a document-specific embedding as follows:\n",
        "\n",
        "    $\\mathbf{a}_d \\sim \\mathcal{N}(\\mathbf{a}_d \\mid \\mathbf{0}, \\mathbf{I})$\n",
        "\n",
        "    Obtain the distribution of words in each document $\\boldsymbol{\\theta}_d$ by normalizing\n",
        "\n",
        "    $\\boldsymbol{\\theta}_d = \\mathrm{softmax}(\\mathbf{b} + \\mathbf{E} \\, \\mathbf{a}_d)$\n",
        "\n",
        "    where $\\mathbf{b}$ is a $V$ dimensional vector representing bias.\n",
        "\n",
        "    Generate a vector of words of a document (draw $N_d$ tokens independently) by sampling\n",
        "\n",
        "    $\\mathbf{x}_d \\sim \\mathrm{Multinomial}(\\boldsymbol{\\theta}_d, N_d) $\n",
        "\n",
        "$\\mathbf{x}_d$ for $d=1 \\ldots D$ put row-wise in matrix $\\mathbf{X}$ represents the document-by-word statistics of the dataset.\n",
        "\n",
        "### Reality\n",
        "\n",
        "In reality, we do not generate the data, instead, given the document-by-word counts $\\mathbf{X}$ (rows represent document indices, and columns represent word indices), we would like to estimate the word embedding matrix $\\mathbf{E}$, bias vector $\\mathbf{b}$ and document embeddings $\\mathbf{a}_d, \\forall \\, d=1 \\ldots D$, that best explains (maxmizes the likelihood) the given (observed) counts $\\mathbf{X}$.\n",
        "\n",
        "### Likelihood\n",
        "\n",
        "Since we assumed each document $d$ is sampled from a $\\mathrm{Multonomial}$ distribution with parameters $\\boldsymbol{\\theta}_d$, we can compute the likelihood of a document as\n",
        "\n",
        "$p(\\mathbf{x}_d \\mid \\boldsymbol{\\theta}_d) = \\prod_{i=1}^{W} \\theta_{di} ^ {x_{di}}$\n",
        "\n",
        "or the log of the likelihood is\n",
        "\n",
        "$\n",
        "\\log p(\\mathbf{x}_d \\mid \\boldsymbol{\\theta}_d) = \\sum_{i} x_{di} \\log (\\theta_{di}) \\\\\n",
        "\\qquad \\qquad \\quad = \\sum_{i} x_{di} \\log \\Big( \\frac{\\exp\\{b_i + \\mathbf{e}_i^{T} \\mathbf{a}_d\\}}{\\sum_{j=1}^{W}\\exp\\{b_j + \\mathbf{e}_j^{T} \\mathbf{a}_d\\}} \\Big) \\\\\n",
        "\\qquad \\qquad \\quad = \\sum_{i} x_{di} \\Big[(b_i + \\mathbf{e}_i^{T} \\mathbf{a}_d) - \\log \\big(\\sum_{j}\\exp\\{b_j + \\mathbf{e}_j^{T} \\mathbf{a}_d\\} \\big) \\Big]\n",
        "$\n",
        "\n",
        "\n",
        "Log-likelihood for all the documents is the summation over individual log-likelihoods\n",
        "\n",
        "$\\mathcal{L} = \\sum_{d=1}^{D} \\log p(\\mathbf{x}_d \\mid \\boldsymbol{\\theta}_d) \\\\\n",
        "\\,\\,\\,\\, = \\sum_{d=1}^{D} \\sum_{i} x_{di} \\Big[(b_i + \\mathbf{e}_i^{T} \\mathbf{a}_d) - \\log \\big(\\sum_{j}\\exp\\{b_j + \\mathbf{e}_j^{T} \\mathbf{a}_d\\} \\big) \\Big]\n",
        "$\n"
      ]
    },
    {
      "cell_type": "code",
      "execution_count": 38,
      "id": "bc8a299b",
      "metadata": {
        "id": "bc8a299b"
      },
      "outputs": [],
      "source": [
        "from scipy.special import log_softmax, logsumexp\n",
        "\n",
        "class Model(torch.nn.Module):\n",
        "    \"\"\"Model defintion, parameters and helper fucntions to compute log-likelihood\"\"\"\n",
        "\n",
        "    def __init__(self, D: int, W: int, K: int, doc_embs: Union[None, np.ndarray]=None):\n",
        "        \"\"\"Initialize our model\n",
        "\n",
        "        Args:\n",
        "            D: number of documents\n",
        "            W: vocab size / number of words\n",
        "            K: embedding dimension / subspace\n",
        "        \"\"\"\n",
        "\n",
        "        super().__init__()\n",
        "\n",
        "        self.D = D\n",
        "        self.W = W\n",
        "        self.K = K\n",
        "\n",
        "        # word embeddings matrix / subspace\n",
        "        n1 = 1. / np.sqrt(K)\n",
        "        n2 = 1. / np.sqrt(W)\n",
        "        self.E = torch.nn.Parameter(\n",
        "            torch.from_numpy(\n",
        "                np.random.uniform(-n2, n1, size=(W, K))).to(dtype=torch.float32)\n",
        "        )\n",
        "\n",
        "        # bias vector\n",
        "        self.b = torch.nn.Parameter(\n",
        "            torch.from_numpy(np.random.randn(W, 1)  * 0.001).to(dtype=torch.float32)\n",
        "            )\n",
        "\n",
        "        # document embeddings\n",
        "        if isinstance(doc_embs, np.ndarray):\n",
        "          if doc_embs.shape[1] == K:\n",
        "              doc_embs = doc_embs.T\n",
        "          self.A = torch.nn.Parameter(\n",
        "              torch.from_numpy(doc_embs), requires_grad=False\n",
        "              )  # requires_grad = False\n",
        "        else:\n",
        "          n3 = 1. / np.sqrt(D)\n",
        "          self.A = torch.nn.Parameter(\n",
        "              torch.from_numpy(np.random.uniform(-n1, n3, size=(K, D))).to(dtype=torch.float32)\n",
        "              )\n",
        "\n",
        "    def __repr__(self):\n",
        "        s = f\"\"\"Model params\n",
        "        Word embs  : {self.E.shape}, Requires grad: {self.E.requires_grad}\n",
        "        bias vector: {self.b.shape}, Requires grad: {self.b.requires_grad}\n",
        "        Doc  embs  : {self.A.shape}, Requires grad: {self.A.requires_grad}\"\"\"\n",
        "        return s\n",
        "\n",
        "    def init_bias_with_log_unigram_dist(self, X):\n",
        "        \"\"\"We will initialize the bias vector with log of unigram distribution over vocabulary.\n",
        "        This should help us with better initialization.\n",
        "\n",
        "        b = \\log (\\sum_d x_d) / (\\sum_d \\sum_i x_{di})\n",
        "        \"\"\"\n",
        "\n",
        "        # if X is sparse matrix, X.A gives the dense version of it in numpy array format\n",
        "        if isinstance(X, np.ndarray):\n",
        "            X = X + 1e-08  # to avoid zeros\n",
        "        else:\n",
        "            X = X.A + 1e-08  # to avoid any zeros\n",
        "\n",
        "        # we would like b to of size (W, 1)\n",
        "        self.b[:, 0].data = torch.from_numpy(np.log(X.sum(axis=0) / X.sum()))\n",
        "\n",
        "    def compute_log_thetas(self, sanity_check=False):\n",
        "        \"\"\"Compute log of thetas, where theta_d is the unigram distribution over document `d` estiamted from\n",
        "        the current params (word-embedding matrix, bias vector) and document embedding a_d. \"\"\"\n",
        "\n",
        "        mat = self.b + (self.E @ self.A)  # shape is W x D\n",
        "        mat = mat.T  # shape is D x W\n",
        "\n",
        "        # log_norm = torch.logsumexp(mat, dim=1, keepdim=True)\n",
        "        # log_thetas = mat - log_norm\n",
        "\n",
        "        # the following single step is same the two above steps combined\n",
        "        log_thetas = torch.nn.functional.log_softmax(mat, dim=1)  # shape is D x W\n",
        "\n",
        "        if sanity_check:\n",
        "            # sanity-check\n",
        "            # since each document is a proper distribution, it should sum upto 1\n",
        "            # sum of the matrix should be equal to number of documents\n",
        "            print(\"Sanity check for log-thetas:\",\n",
        "                torch.allclose(torch.exp(log_thetas).sum(), self.D)\n",
        "            )\n",
        "\n",
        "        return log_thetas\n",
        "\n",
        "    def compute_neg_log_likelihood(self, row_ixs, col_ixs, values):\n",
        "        \"\"\"Compute negative log-likelihood of the data, given the current parameters / embeddings\n",
        "\n",
        "        Each summation could be implemented using a for-loop but that would very slow,\n",
        "        since we have every thing stored in matrices and a sparse matrix, we will do it via\n",
        "        matrix muliplications and additions.\n",
        "\n",
        "        Args:\n",
        "            row_ixs (torch.LongTensor): Row indices (docs)\n",
        "            col_ixs (torch.LongTensor): Col indices (words)\n",
        "            values (torch.FloatTensor): counts (occurrences)\n",
        "\n",
        "        Returns:\n",
        "            float: log-likelihood of the data\n",
        "        \"\"\"\n",
        "\n",
        "        log_thetas = self.compute_log_thetas()\n",
        "\n",
        "        llh = (log_thetas[row_ixs, col_ixs] * values).sum()\n",
        "\n",
        "        return -1.0 * llh\n",
        ""
      ]
    },
    {
      "cell_type": "code",
      "execution_count": 39,
      "id": "1d0aea36",
      "metadata": {
        "id": "1d0aea36"
      },
      "outputs": [],
      "source": [
        "def train(model, X, train_iters, opt, device):\n",
        "    \"\"\"Training scheme for the model\"\"\"\n",
        "\n",
        "    rixs, cixs = X.nonzero()\n",
        "    rixs = torch.from_numpy(rixs).long().to(device=device)\n",
        "    cixs = torch.from_numpy(cixs).long().to(device=device)\n",
        "    data = torch.from_numpy(X.data).to(device=device)\n",
        "\n",
        "    with torch.no_grad():\n",
        "        initial_llh = model.compute_neg_log_likelihood(rixs, cixs, data)\n",
        "        print(\"Initial neg. log-likelihood:\", initial_llh.detach().cpu().numpy())\n",
        "\n",
        "        print(\"Initializing bias vector to log-unigram distribution.\")\n",
        "        model.init_bias_with_log_unigram_dist(X)\n",
        "\n",
        "        new_init_llh = model.compute_neg_log_likelihood(rixs, cixs, data)\n",
        "        print(\"New init neg. log-likelihood:\", new_init_llh.detach().cpu().numpy())\n",
        "\n",
        "\n",
        "    llhs = [initial_llh.detach().cpu().numpy(), new_init_llh.detach().cpu().numpy()]\n",
        "\n",
        "    # pbar = tqdm(np.arange(1, train_iters+1).tolist())\n",
        "\n",
        "    tran = tqdm.trange(\n",
        "        train_iters, desc='Neg Log-likelihood {:10.1f} | Training progress'.format(llhs[-1]), leave=True\n",
        "        )\n",
        "\n",
        "    for i in tran:\n",
        "\n",
        "        opt.zero_grad()\n",
        "\n",
        "        llh_ei = model.compute_neg_log_likelihood(rixs, cixs, data)\n",
        "\n",
        "        llh_ei.backward()\n",
        "\n",
        "        opt.step()\n",
        "\n",
        "        tran.set_description(\"Neg Log-likelihood {:10.1f} | Training progress\".format(llh_ei))\n",
        "        tran.refresh() # to show immediately the update\n",
        "\n",
        "        llhs.append(llh_ei.detach().cpu().numpy())\n",
        "\n",
        "\n",
        "    return model, llhs\n",
        ""
      ]
    },
    {
      "cell_type": "code",
      "execution_count": 40,
      "id": "69f32a1b",
      "metadata": {
        "colab": {
          "base_uri": "https://localhost:8080/"
        },
        "id": "69f32a1b",
        "outputId": "60a7795c-459e-44ac-f787-5f176cbcf5f4"
      },
      "outputs": [
        {
          "output_type": "stream",
          "name": "stdout",
          "text": [
            "Counts (DbyW) (11110, 2724)\n"
          ]
        }
      ],
      "source": [
        "# We will used only a subset of sentences from strategy 2\n",
        "\n",
        "count_vect = CountVectorizer(stop_words=None, lowercase=False, strip_accents=None, min_df=1)\n",
        "DbyW = count_vect.fit_transform(subset_sents)\n",
        "print('Counts (DbyW)', DbyW.shape)\n",
        "\n",
        "int2vocab = {}\n",
        "for word, idx in count_vect.vocabulary_.items():\n",
        "    int2vocab[idx] = word"
      ]
    },
    {
      "cell_type": "code",
      "execution_count": 41,
      "id": "984961fe",
      "metadata": {
        "colab": {
          "base_uri": "https://localhost:8080/"
        },
        "id": "984961fe",
        "outputId": "5441fe55-e23b-4120-9081-b5de870117c2"
      },
      "outputs": [
        {
          "output_type": "stream",
          "name": "stdout",
          "text": [
            "Embedding dim of sentences: 768\n",
            "Model params\n",
            "        Word embs  : torch.Size([2724, 768]), Requires grad: True\n",
            "        bias vector: torch.Size([2724, 1]), Requires grad: True\n",
            "        Doc  embs  : torch.Size([768, 11110]), Requires grad: False\n"
          ]
        }
      ],
      "source": [
        "np.random.seed(99)\n",
        "\n",
        "# higher the embedding-dim, more semantic information could be captured, but at the same time\n",
        "# increases the number of parameters and also training time and memory requriements.\n",
        "\n",
        "emb_dim = subset_embs.shape[1]  # embedding dim\n",
        "print('Embedding dim of sentences:', emb_dim)\n",
        "\n",
        "model = Model(DbyW.shape[0], DbyW.shape[1], emb_dim, subset_embs)\n",
        "\n",
        "print(model)\n",
        "\n",
        "train_iters = 200\n",
        "\n",
        "# higher learning rate can make big steps, but can overshoot, one can use backtracking approach to make smaller steps.\n",
        "\n",
        "# You can play with various learning rate and see how quickly the model converges\n",
        "learning_rate = 0.01\n",
        "\n",
        "# Create an optimizer\n",
        "opt = torch.optim.AdamW(model.parameters(), lr=learning_rate, weight_decay=1e-4)\n"
      ]
    },
    {
      "cell_type": "code",
      "source": [
        "# Let's train the model\n",
        "# Run this cell again to continue traning for more iterations\n",
        "os.environ['OMP_NUM_THREADS'] = '4'\n",
        "os.environ['MKL_NUM_THREADS'] = '4'\n",
        "\n",
        "device = torch.device(\"cuda\")\n",
        "model.cuda()\n",
        "\n",
        "model, llhs = train(model, DbyW, train_iters, opt, device)"
      ],
      "metadata": {
        "colab": {
          "base_uri": "https://localhost:8080/"
        },
        "id": "xoACZauXA1gp",
        "outputId": "09ddb465-a0d9-4d8c-897c-6535e0b72014"
      },
      "id": "xoACZauXA1gp",
      "execution_count": 42,
      "outputs": [
        {
          "output_type": "stream",
          "name": "stdout",
          "text": [
            "Initial neg. log-likelihood: 976877.75\n",
            "Initializing bias vector to log-unigram distribution.\n",
            "New init neg. log-likelihood: 976877.75\n"
          ]
        },
        {
          "output_type": "stream",
          "name": "stderr",
          "text": [
            "Neg Log-likelihood   443788.5 | Training progress: 100%|██████████| 200/200 [00:06<00:00, 29.88it/s]\n"
          ]
        }
      ]
    },
    {
      "cell_type": "code",
      "execution_count": 43,
      "id": "4d02cd7d",
      "metadata": {
        "colab": {
          "base_uri": "https://localhost:8080/",
          "height": 326
        },
        "id": "4d02cd7d",
        "outputId": "fbdb8ea9-95c5-4e4d-8491-936f06c762f7"
      },
      "outputs": [
        {
          "output_type": "display_data",
          "data": {
            "text/plain": [
              "<Figure size 600x300 with 1 Axes>"
            ],
            "image/png": "[encoded data removed]"
          },
          "metadata": {}
        }
      ],
      "source": [
        "def plot_log_likelihood(llhs, fig_num):\n",
        "\n",
        "    plt.figure(fig_num, figsize=(6, 3))\n",
        "    plt.plot(np.arange(0, len(llhs)/2., 0.5), llhs, '.-')\n",
        "\n",
        "    plt.xlabel('Training iterations')\n",
        "    plt.ylabel('Negative Log-likelihood')\n",
        "\n",
        "    plt.ticklabel_format(axis='y', style='sci', scilimits=(5, 5))\n",
        "    plt.grid(alpha=0.5, linestyle='--')\n",
        "    plt.show()\n",
        "\n",
        "plot_log_likelihood(llhs, 10)"
      ]
    },
    {
      "cell_type": "code",
      "execution_count": 44,
      "id": "dc6caf90",
      "metadata": {
        "id": "dc6caf90"
      },
      "outputs": [],
      "source": [
        "# Cluster and Get more representative words using the trained word embeddings\n",
        "\n",
        "def cluster_and_get_representative_words(int2vocab, model, n_clusters):\n",
        "\n",
        "    embs = model.A.T\n",
        "    embs = embs.detach().cpu().numpy()\n",
        "    print('Doc embeddings (model.A.T):', embs.shape)\n",
        "\n",
        "    print(\"Clustering\", embs.shape[0], \"embeddings into\", n_clusters, \"clusters with k-means..\")\n",
        "\n",
        "    norm_embs = preprocessing.normalize(embs)\n",
        "    print(\"  Normalizing embeddings to have unit length..\")\n",
        "\n",
        "    kmeans2 = KMeans(n_clusters=n_clusters, n_init='auto', random_state=123, max_iter=1000)\n",
        "    pred_ixs2 = kmeans2.fit_predict(norm_embs)\n",
        "    print('.. done')\n",
        "\n",
        "    cluster_ixs, cluster_strength = np.unique(pred_ixs2, return_counts=True)\n",
        "\n",
        "    cluster_strength = cluster_strength / pred_ixs2.shape[0]\n",
        "\n",
        "    centroids = kmeans2.cluster_centers_\n",
        "\n",
        "    print(\"Cluster centers:\", centroids.shape)\n",
        "\n",
        "    global_mean = np.mean(embs, axis=0)\n",
        "\n",
        "    scores = (model.E.detach().cpu().numpy() @ (centroids - global_mean).T)\n",
        "    # scores = (model.E.detach().cpu().numpy() @ centroids.T)\n",
        "\n",
        "    topn = 15  # top N words per cluster\n",
        "\n",
        "    print(\"Cluster_index (strength in %) Representative tokens\\n\")\n",
        "    for k in range(n_clusters):\n",
        "        k_ixs = np.argsort(scores[:, k])[::-1] # sort in descending order\n",
        "        print(\"{:3d} ({:3.1f})\".format(k, cluster_strength[k]*100.), end=\"   \")\n",
        "        for i in range(topn):\n",
        "            print(int2vocab[k_ixs[i]], end=\", \")\n",
        "        print(\"\\n\")\n",
        "\n",
        "    print()\n",
        "\n",
        "#     top_k = 15  # print TOP K words per cluster\n",
        "#     for i in range(n_clusters):\n",
        "#         sort_ixs = np.argsort(prob_per_cluster[i, :].A.squeeze())[::-1]\n",
        "#         print(\"= Cluster\", i, end=\"=\\n \")\n",
        "#         for j in range(top_k):\n",
        "#             print(int2vocab[sort_ixs[j]], end=\", \")\n",
        "#         print(\"\\n\")\n",
        "\n",
        "    return pred_ixs2"
      ]
    },
    {
      "cell_type": "code",
      "execution_count": 45,
      "id": "c7a837d5",
      "metadata": {
        "colab": {
          "base_uri": "https://localhost:8080/"
        },
        "id": "c7a837d5",
        "outputId": "7bb8612d-3447-4584-ec9f-08de7068065d"
      },
      "outputs": [
        {
          "output_type": "stream",
          "name": "stdout",
          "text": [
            "Doc embeddings (model.A.T): (11110, 768)\n",
            "Clustering 11110 embeddings into 12 clusters with k-means..\n",
            "  Normalizing embeddings to have unit length..\n",
            ".. done\n",
            "Cluster centers: (12, 768)\n",
            "Cluster_index (strength in %) Representative tokens\n",
            "\n",
            "  0 (8.4)   address, phone, their, postcode, number, post, give, code, its, telephone, Give, thier, Address, Sounds, venue, \n",
            "\n",
            "  1 (16.3)   town, center, part, restaurants, several, prefer, moderate, There, in, these, north, range, preference, price, interested, \n",
            "\n",
            "  2 (3.7)   01223, reached, 277977, 355166, 362525, 367660, 308681, 309147, 01223323361, 01223352500, 566188, 351880, Their, 362456, 311911, \n",
            "\n",
            "  3 (7.6)   welcome, Glad, pleasure, glad, allowing, Enjoy, Have, enjoy, using, calling, helped, future, contacting, You, day, \n",
            "\n",
            "  4 (6.7)   Goodbye, welcome, bye, Welcome, Good, goodbye, Woah, YOU, wecome, Bye, yo, Nice, talking, pleasure, Thank, \n",
            "\n",
            "  5 (5.3)   Park, Way, Clifton, Leisure, Road, G4, Cambridge, Hinton, Cherry, Retail, Chesterton, road, postal, Milton, 01223, \n",
            "\n",
            "  6 (9.5)   aren, search, different, restaurants, instead, another, look, sorry, happen, no, listed, requests, matching, try, something, \n",
            "\n",
            "  7 (9.6)   looking, am, trying, medium, persian, find, Hi, Looking, restaurant, eats, section, restuarant, Eastern, Find, cuban, \n",
            "\n",
            "  8 (7.8)   Street, 01223, Road, City, street, Bridge, Centre, Their, Postcode, reached, 0122302010, Thier, cote, goodbye, 24, \n",
            "\n",
            "  9 (9.8)   matter, prefer, preference, mid, Type, Lets, which, ranges, preferred, ones, wide, really, eateries, Were, long, \n",
            "\n",
            " 10 (9.7)   Tuesday, people, Monday, 13, slot, Wednesday, Sunday, thursday, 15, reserved, minutes, 00, Thursday, Booking, saturday, \n",
            "\n",
            " 11 (5.6)   successful, Reference, reference, covers, awesome, helpful, Your, much, everything, cheers, needed, reserved, all, Thanks, news, \n",
            "\n",
            "\n"
          ]
        }
      ],
      "source": [
        "pred_ixs2 = cluster_and_get_representative_words(int2vocab, model, 12)"
      ]
    },
    {
      "cell_type": "code",
      "execution_count": 46,
      "id": "43809c65",
      "metadata": {
        "colab": {
          "base_uri": "https://localhost:8080/"
        },
        "id": "43809c65",
        "outputId": "d239747e-1bdc-4005-e01d-d887fb2431f9"
      },
      "outputs": [
        {
          "output_type": "stream",
          "name": "stdout",
          "text": [
            "Computing transition matrix ..\n",
            " n_clusters 12\n",
            "Transition matrix: (12, 12)\n",
            "\n",
            "Start of conversation..\n",
            "Cluster ix: [   0 |   1 |   5 |   6 |   7 |   8 |   9 |  10]\n",
            "Percentage: [ 6.8 | 8.2 | 0.2 | 0.9 |76.5 | 0.2 | 7.2 | 0.2]\n",
            "76.5 % from cluster index 7 is the most dense.\n",
            "\n",
            "End of conversation..\n",
            "Cluster ix: [   0 |   1 |   2 |   3 |   4 |   5 |   6 |   8 |   9 |  10 |  11]\n",
            "Percentage: [ 0.5 | 1.3 | 0.5 |44.0 |47.5 | 0.5 | 0.4 | 1.3 | 1.2 | 1.7 | 1.2]\n",
            "47.5 % from cluster index 4 is the most dense.\n"
          ]
        }
      ],
      "source": [
        "trans2, soc2, eoc2 = compute_transitions(subset_domain_convs, pred_ixs2)  # strategy 2 with subset\n",
        "print(\"Transition matrix:\", trans2.shape)\n",
        "for i in range(trans2.shape[0]):\n",
        "    trans2[i, :] /= trans2[i, :].sum()\n",
        "\n",
        "print(\"\\nStart of conversation..\")\n",
        "# get the clusters where the conversation usually BEGIN\n",
        "soc_prob2, soc_ixs2 = get_cluster_assignments(soc2)\n",
        "\n",
        "\n",
        "print(\"\\nEnd of conversation..\")\n",
        "# get the clusters where the conversation usually END\n",
        "eoc_prob2, eoc_ixs2 = get_cluster_assignments(eoc2)"
      ]
    },
    {
      "cell_type": "code",
      "execution_count": 161,
      "id": "4ad9f91c",
      "metadata": {
        "colab": {
          "base_uri": "https://localhost:8080/",
          "height": 459
        },
        "id": "4ad9f91c",
        "outputId": "ff0b180f-0806-4c7b-fe3f-7aa87ccb79fb"
      },
      "outputs": [
        {
          "output_type": "execute_result",
          "data": {
            "image/svg+xml": "<?xml version=\"1.0\" encoding=\"UTF-8\" standalone=\"no\"?>\n<!DOCTYPE svg PUBLIC \"-//W3C//DTD SVG 1.1//EN\"\n \"http://www.w3.org/Graphics/SVG/1.1/DTD/svg11.dtd\">\n<!-- Generated by graphviz version 2.43.0 (0)\n -->\n<!-- Title: MutliWoz_restaurant Pages: 1 -->\n<svg width=\"1011pt\" height=\"328pt\"\n viewBox=\"0.00 0.00 1010.58 328.50\" xmlns=\"http://www.w3.org/2000/svg\" xmlns:xlink=\"http://www.w3.org/1999/xlink\">\n<g id=\"graph0\" class=\"graph\" transform=\"scale(1 1) rotate(0) translate(4 324.5)\">\n<title>MutliWoz_restaurant</title>\n<polygon fill=\"white\" stroke=\"transparent\" points=\"-4,4 -4,-324.5 1006.58,-324.5 1006.58,4 -4,4\"/>\n<!-- BEGIN -->\n<g id=\"node1\" class=\"node\">\n<title>BEGIN</title>\n<ellipse fill=\"none\" stroke=\"black\" cx=\"41.7\" cy=\"-125.5\" rx=\"37.88\" ry=\"37.88\"/>\n<ellipse fill=\"none\" stroke=\"black\" cx=\"41.7\" cy=\"-125.5\" rx=\"41.89\" ry=\"41.89\"/>\n<text text-anchor=\"middle\" x=\"41.7\" y=\"-121.8\" font-family=\"Times,serif\" font-size=\"14.00\">BEGIN</text>\n</g>\n<!-- 7 -->\n<g id=\"node10\" class=\"node\">\n<title>7</title>\n<ellipse fill=\"cyan\" stroke=\"black\" cx=\"162.39\" cy=\"-125.5\" rx=\"18\" ry=\"18\"/>\n<text text-anchor=\"middle\" x=\"162.39\" y=\"-121.8\" font-family=\"Times,serif\" font-size=\"14.00\">7</text>\n</g>\n<!-- BEGIN&#45;&gt;7 -->\n<g id=\"edge1\" class=\"edge\">\n<title>BEGIN&#45;&gt;7</title>\n<path fill=\"none\" stroke=\"black\" d=\"M83.55,-125.5C100.27,-125.5 119.18,-125.5 134.17,-125.5\"/>\n<polygon fill=\"black\" stroke=\"black\" points=\"134.31,-129 144.31,-125.5 134.31,-122 134.31,-129\"/>\n<text text-anchor=\"middle\" x=\"113.89\" y=\"-129.3\" font-family=\"Times,serif\" font-size=\"14.00\">0.76</text>\n</g>\n<!-- END -->\n<g id=\"node2\" class=\"node\">\n<title>END</title>\n<ellipse fill=\"none\" stroke=\"black\" cx=\"969.98\" cy=\"-73.5\" rx=\"28.68\" ry=\"28.68\"/>\n<ellipse fill=\"none\" stroke=\"black\" cx=\"969.98\" cy=\"-73.5\" rx=\"32.7\" ry=\"32.7\"/>\n<text text-anchor=\"middle\" x=\"969.98\" y=\"-69.8\" font-family=\"Times,serif\" font-size=\"14.00\">END</text>\n</g>\n<!-- 0 -->\n<g id=\"node3\" class=\"node\">\n<title>0</title>\n<ellipse fill=\"none\" stroke=\"black\" cx=\"551.89\" cy=\"-171.5\" rx=\"18\" ry=\"18\"/>\n<text text-anchor=\"middle\" x=\"551.89\" y=\"-167.8\" font-family=\"Times,serif\" font-size=\"14.00\">0</text>\n</g>\n<!-- 0&#45;&gt;0 -->\n<g id=\"edge4\" class=\"edge\">\n<title>0&#45;&gt;0</title>\n<path fill=\"none\" stroke=\"black\" d=\"M543.53,-187.79C541.51,-197.89 544.3,-207.5 551.89,-207.5 556.76,-207.5 559.65,-203.55 560.57,-198.06\"/>\n<polygon fill=\"black\" stroke=\"black\" points=\"564.06,-197.68 560.26,-187.79 557.06,-197.89 564.06,-197.68\"/>\n<text text-anchor=\"middle\" x=\"551.89\" y=\"-211.3\" font-family=\"Times,serif\" font-size=\"14.00\">0.22</text>\n</g>\n<!-- 2 -->\n<g id=\"node5\" class=\"node\">\n<title>2</title>\n<ellipse fill=\"none\" stroke=\"black\" cx=\"651.89\" cy=\"-107.5\" rx=\"18\" ry=\"18\"/>\n<text text-anchor=\"middle\" x=\"651.89\" y=\"-103.8\" font-family=\"Times,serif\" font-size=\"14.00\">2</text>\n</g>\n<!-- 0&#45;&gt;2 -->\n<g id=\"edge5\" class=\"edge\">\n<title>0&#45;&gt;2</title>\n<path fill=\"none\" stroke=\"black\" d=\"M567.35,-162.05C583.27,-151.66 609.1,-134.79 627.82,-122.56\"/>\n<polygon fill=\"black\" stroke=\"black\" points=\"629.91,-125.38 636.37,-116.98 626.08,-119.52 629.91,-125.38\"/>\n<text text-anchor=\"middle\" x=\"601.89\" y=\"-150.3\" font-family=\"Times,serif\" font-size=\"14.00\">0.16</text>\n</g>\n<!-- 5 -->\n<g id=\"node8\" class=\"node\">\n<title>5</title>\n<ellipse fill=\"none\" stroke=\"black\" cx=\"707.39\" cy=\"-269.5\" rx=\"18\" ry=\"18\"/>\n<text text-anchor=\"middle\" x=\"707.39\" y=\"-265.8\" font-family=\"Times,serif\" font-size=\"14.00\">5</text>\n</g>\n<!-- 0&#45;&gt;5 -->\n<g id=\"edge6\" class=\"edge\">\n<title>0&#45;&gt;5</title>\n<path fill=\"none\" stroke=\"black\" d=\"M562.55,-186.11C575.89,-205.05 601.8,-237.65 632.39,-254.5 646.71,-262.39 664.64,-266.15 679.27,-267.93\"/>\n<polygon fill=\"black\" stroke=\"black\" points=\"678.94,-271.42 689.23,-268.91 679.62,-264.45 678.94,-271.42\"/>\n<text text-anchor=\"middle\" x=\"601.89\" y=\"-245.3\" font-family=\"Times,serif\" font-size=\"14.00\">0.13</text>\n</g>\n<!-- 8 -->\n<g id=\"node11\" class=\"node\">\n<title>8</title>\n<ellipse fill=\"none\" stroke=\"black\" cx=\"651.89\" cy=\"-194.5\" rx=\"18\" ry=\"18\"/>\n<text text-anchor=\"middle\" x=\"651.89\" y=\"-190.8\" font-family=\"Times,serif\" font-size=\"14.00\">8</text>\n</g>\n<!-- 0&#45;&gt;8 -->\n<g id=\"edge7\" class=\"edge\">\n<title>0&#45;&gt;8</title>\n<path fill=\"none\" stroke=\"black\" d=\"M569.52,-175.4C584.44,-178.9 606.61,-184.11 624.05,-188.2\"/>\n<polygon fill=\"black\" stroke=\"black\" points=\"623.65,-191.7 634.18,-190.58 625.25,-184.89 623.65,-191.7\"/>\n<text text-anchor=\"middle\" x=\"601.89\" y=\"-189.3\" font-family=\"Times,serif\" font-size=\"14.00\">0.36</text>\n</g>\n<!-- 1 -->\n<g id=\"node4\" class=\"node\">\n<title>1</title>\n<ellipse fill=\"none\" stroke=\"black\" cx=\"356.39\" cy=\"-109.5\" rx=\"18\" ry=\"18\"/>\n<text text-anchor=\"middle\" x=\"356.39\" y=\"-105.8\" font-family=\"Times,serif\" font-size=\"14.00\">1</text>\n</g>\n<!-- 1&#45;&gt;0 -->\n<g id=\"edge8\" class=\"edge\">\n<title>1&#45;&gt;0</title>\n<path fill=\"none\" stroke=\"black\" d=\"M372.87,-117.51C388.36,-125.27 413.03,-136.95 435.39,-144.5 465,-154.5 500.09,-162.13 523.76,-166.69\"/>\n<polygon fill=\"black\" stroke=\"black\" points=\"523.3,-170.16 533.77,-168.56 524.59,-163.28 523.3,-170.16\"/>\n<text text-anchor=\"middle\" x=\"453.39\" y=\"-158.3\" font-family=\"Times,serif\" font-size=\"14.00\">0.20</text>\n</g>\n<!-- 1&#45;&gt;1 -->\n<g id=\"edge9\" class=\"edge\">\n<title>1&#45;&gt;1</title>\n<path fill=\"none\" stroke=\"black\" d=\"M348.03,-125.79C346.01,-135.89 348.8,-145.5 356.39,-145.5 361.26,-145.5 364.15,-141.55 365.07,-136.06\"/>\n<polygon fill=\"black\" stroke=\"black\" points=\"368.56,-135.68 364.76,-125.79 361.56,-135.89 368.56,-135.68\"/>\n<text text-anchor=\"middle\" x=\"356.39\" y=\"-149.3\" font-family=\"Times,serif\" font-size=\"14.00\">0.38</text>\n</g>\n<!-- 9 -->\n<g id=\"node12\" class=\"node\">\n<title>9</title>\n<ellipse fill=\"none\" stroke=\"black\" cx=\"453.39\" cy=\"-84.5\" rx=\"18\" ry=\"18\"/>\n<text text-anchor=\"middle\" x=\"453.39\" y=\"-80.8\" font-family=\"Times,serif\" font-size=\"14.00\">9</text>\n</g>\n<!-- 1&#45;&gt;9 -->\n<g id=\"edge10\" class=\"edge\">\n<title>1&#45;&gt;9</title>\n<path fill=\"none\" stroke=\"black\" d=\"M373.99,-105.51C386.05,-102.57 402.77,-98.41 417.39,-94.5 420.25,-93.73 423.24,-92.91 426.21,-92.08\"/>\n<polygon fill=\"black\" stroke=\"black\" points=\"427.38,-95.39 436.04,-89.29 425.47,-88.65 427.38,-95.39\"/>\n<text text-anchor=\"middle\" x=\"404.89\" y=\"-104.3\" font-family=\"Times,serif\" font-size=\"14.00\">0.17</text>\n</g>\n<!-- 10 -->\n<g id=\"node13\" class=\"node\">\n<title>10</title>\n<ellipse fill=\"none\" stroke=\"black\" cx=\"551.89\" cy=\"-33.5\" rx=\"19.5\" ry=\"19.5\"/>\n<text text-anchor=\"middle\" x=\"551.89\" y=\"-29.8\" font-family=\"Times,serif\" font-size=\"14.00\">10</text>\n</g>\n<!-- 1&#45;&gt;10 -->\n<g id=\"edge11\" class=\"edge\">\n<title>1&#45;&gt;10</title>\n<path fill=\"none\" stroke=\"black\" d=\"M367.74,-95.2C374.24,-86.82 383.12,-76.37 392.39,-68.5 409.42,-54.04 414.13,-49.33 435.39,-42.5 463.96,-33.32 498.44,-31.79 522.25,-32.1\"/>\n<polygon fill=\"black\" stroke=\"black\" points=\"522.3,-35.6 532.38,-32.35 522.48,-28.6 522.3,-35.6\"/>\n<text text-anchor=\"middle\" x=\"453.39\" y=\"-46.3\" font-family=\"Times,serif\" font-size=\"14.00\">0.11</text>\n</g>\n<!-- 2&#45;&gt;2 -->\n<g id=\"edge12\" class=\"edge\">\n<title>2&#45;&gt;2</title>\n<path fill=\"none\" stroke=\"black\" d=\"M643.52,-123.79C641.51,-133.89 644.29,-143.5 651.89,-143.5 656.75,-143.5 659.65,-139.55 660.57,-134.06\"/>\n<polygon fill=\"black\" stroke=\"black\" points=\"664.06,-133.68 660.25,-123.79 657.06,-133.89 664.06,-133.68\"/>\n<text text-anchor=\"middle\" x=\"651.89\" y=\"-147.3\" font-family=\"Times,serif\" font-size=\"14.00\">0.46</text>\n</g>\n<!-- 3 -->\n<g id=\"node6\" class=\"node\">\n<title>3</title>\n<ellipse fill=\"pink\" stroke=\"black\" cx=\"761.39\" cy=\"-51.5\" rx=\"18\" ry=\"18\"/>\n<text text-anchor=\"middle\" x=\"761.39\" y=\"-47.8\" font-family=\"Times,serif\" font-size=\"14.00\">3</text>\n</g>\n<!-- 2&#45;&gt;3 -->\n<g id=\"edge13\" class=\"edge\">\n<title>2&#45;&gt;3</title>\n<path fill=\"none\" stroke=\"black\" d=\"M668.29,-99.47C686.01,-90.24 715.34,-74.97 736.13,-64.13\"/>\n<polygon fill=\"black\" stroke=\"black\" points=\"737.76,-67.23 745.01,-59.51 734.53,-61.02 737.76,-67.23\"/>\n<text text-anchor=\"middle\" x=\"707.39\" y=\"-91.3\" font-family=\"Times,serif\" font-size=\"14.00\">0.17</text>\n</g>\n<!-- 4 -->\n<g id=\"node7\" class=\"node\">\n<title>4</title>\n<ellipse fill=\"pink\" stroke=\"black\" cx=\"858.39\" cy=\"-138.5\" rx=\"18\" ry=\"18\"/>\n<text text-anchor=\"middle\" x=\"858.39\" y=\"-134.8\" font-family=\"Times,serif\" font-size=\"14.00\">4</text>\n</g>\n<!-- 2&#45;&gt;4 -->\n<g id=\"edge14\" class=\"edge\">\n<title>2&#45;&gt;4</title>\n<path fill=\"none\" stroke=\"black\" d=\"M669.97,-110.09C705.55,-115.48 787.81,-127.95 830.54,-134.43\"/>\n<polygon fill=\"black\" stroke=\"black\" points=\"830.08,-137.9 840.5,-135.94 831.13,-130.98 830.08,-137.9\"/>\n<text text-anchor=\"middle\" x=\"761.39\" y=\"-130.3\" font-family=\"Times,serif\" font-size=\"14.00\">0.22</text>\n</g>\n<!-- 3&#45;&gt;END -->\n<g id=\"edge2\" class=\"edge\">\n<title>3&#45;&gt;END</title>\n<path fill=\"none\" stroke=\"black\" d=\"M779.65,-53.34C811.86,-56.77 881.95,-64.23 927.22,-69.05\"/>\n<polygon fill=\"black\" stroke=\"black\" points=\"927.01,-72.55 937.32,-70.13 927.75,-65.59 927.01,-72.55\"/>\n<text text-anchor=\"middle\" x=\"858.39\" y=\"-67.3\" font-family=\"Times,serif\" font-size=\"14.00\">0.44</text>\n</g>\n<!-- 3&#45;&gt;3 -->\n<g id=\"edge15\" class=\"edge\">\n<title>3&#45;&gt;3</title>\n<path fill=\"none\" stroke=\"black\" d=\"M753.02,-67.79C751,-77.89 753.79,-87.5 761.39,-87.5 766.25,-87.5 769.14,-83.55 770.06,-78.06\"/>\n<polygon fill=\"black\" stroke=\"black\" points=\"773.55,-77.68 769.75,-67.79 766.56,-77.89 773.55,-77.68\"/>\n<text text-anchor=\"middle\" x=\"761.39\" y=\"-91.3\" font-family=\"Times,serif\" font-size=\"14.00\">0.70</text>\n</g>\n<!-- 3&#45;&gt;4 -->\n<g id=\"edge16\" class=\"edge\">\n<title>3&#45;&gt;4</title>\n<path fill=\"none\" stroke=\"black\" d=\"M775.2,-63.23C791.06,-77.76 818.28,-102.69 837.02,-119.85\"/>\n<polygon fill=\"black\" stroke=\"black\" points=\"834.74,-122.5 844.47,-126.67 839.46,-117.34 834.74,-122.5\"/>\n<text text-anchor=\"middle\" x=\"809.89\" y=\"-108.3\" font-family=\"Times,serif\" font-size=\"14.00\">0.24</text>\n</g>\n<!-- 4&#45;&gt;END -->\n<g id=\"edge3\" class=\"edge\">\n<title>4&#45;&gt;END</title>\n<path fill=\"none\" stroke=\"black\" d=\"M874.17,-129.73C889.06,-120.9 912.64,-106.92 932.55,-95.11\"/>\n<polygon fill=\"black\" stroke=\"black\" points=\"934.58,-97.97 941.4,-89.86 931.01,-91.95 934.58,-97.97\"/>\n<text text-anchor=\"middle\" x=\"906.89\" y=\"-120.3\" font-family=\"Times,serif\" font-size=\"14.00\">0.47</text>\n</g>\n<!-- 4&#45;&gt;4 -->\n<g id=\"edge17\" class=\"edge\">\n<title>4&#45;&gt;4</title>\n<path fill=\"none\" stroke=\"black\" d=\"M850.02,-154.79C848,-164.89 850.79,-174.5 858.39,-174.5 863.25,-174.5 866.14,-170.55 867.06,-165.06\"/>\n<polygon fill=\"black\" stroke=\"black\" points=\"870.55,-164.68 866.75,-154.79 863.56,-164.89 870.55,-164.68\"/>\n<text text-anchor=\"middle\" x=\"858.39\" y=\"-178.3\" font-family=\"Times,serif\" font-size=\"14.00\">0.89</text>\n</g>\n<!-- 5&#45;&gt;4 -->\n<g id=\"edge18\" class=\"edge\">\n<title>5&#45;&gt;4</title>\n<path fill=\"none\" stroke=\"black\" d=\"M725.25,-265.47C749.61,-258.87 794.73,-243.59 822.39,-215.5 835.91,-201.76 844.76,-181.87 850.18,-165.75\"/>\n<polygon fill=\"black\" stroke=\"black\" points=\"853.65,-166.39 853.27,-155.8 846.96,-164.32 853.65,-166.39\"/>\n<text text-anchor=\"middle\" x=\"761.39\" y=\"-263.3\" font-family=\"Times,serif\" font-size=\"14.00\">0.22</text>\n</g>\n<!-- 5&#45;&gt;5 -->\n<g id=\"edge19\" class=\"edge\">\n<title>5&#45;&gt;5</title>\n<path fill=\"none\" stroke=\"black\" d=\"M698.15,-285.04C695.55,-295.41 698.63,-305.5 707.39,-305.5 713.13,-305.5 716.43,-301.15 717.29,-295.23\"/>\n<polygon fill=\"black\" stroke=\"black\" points=\"720.77,-294.79 716.62,-285.04 713.78,-295.25 720.77,-294.79\"/>\n<text text-anchor=\"middle\" x=\"707.39\" y=\"-309.3\" font-family=\"Times,serif\" font-size=\"14.00\">0.43</text>\n</g>\n<!-- 6 -->\n<g id=\"node9\" class=\"node\">\n<title>6</title>\n<ellipse fill=\"none\" stroke=\"black\" cx=\"259.39\" cy=\"-160.5\" rx=\"18\" ry=\"18\"/>\n<text text-anchor=\"middle\" x=\"259.39\" y=\"-156.8\" font-family=\"Times,serif\" font-size=\"14.00\">6</text>\n</g>\n<!-- 6&#45;&gt;1 -->\n<g id=\"edge20\" class=\"edge\">\n<title>6&#45;&gt;1</title>\n<path fill=\"none\" stroke=\"black\" d=\"M275.66,-152.3C290.61,-144.27 313.65,-131.91 331.12,-122.53\"/>\n<polygon fill=\"black\" stroke=\"black\" points=\"333.01,-125.49 340.17,-117.67 329.7,-119.32 333.01,-125.49\"/>\n<text text-anchor=\"middle\" x=\"307.89\" y=\"-144.3\" font-family=\"Times,serif\" font-size=\"14.00\">0.23</text>\n</g>\n<!-- 6&#45;&gt;6 -->\n<g id=\"edge21\" class=\"edge\">\n<title>6&#45;&gt;6</title>\n<path fill=\"none\" stroke=\"black\" d=\"M251.03,-176.79C249.01,-186.89 251.8,-196.5 259.39,-196.5 264.26,-196.5 267.15,-192.55 268.07,-187.06\"/>\n<polygon fill=\"black\" stroke=\"black\" points=\"271.56,-186.68 267.76,-176.79 264.56,-186.89 271.56,-186.68\"/>\n<text text-anchor=\"middle\" x=\"259.39\" y=\"-200.3\" font-family=\"Times,serif\" font-size=\"14.00\">0.44</text>\n</g>\n<!-- 6&#45;&gt;9 -->\n<g id=\"edge22\" class=\"edge\">\n<title>6&#45;&gt;9</title>\n<path fill=\"none\" stroke=\"black\" d=\"M276.68,-166.46C299.56,-173.81 342.04,-183.72 374.39,-169.5 402.5,-157.14 424.92,-129.1 438.38,-108.59\"/>\n<polygon fill=\"black\" stroke=\"black\" points=\"441.39,-110.38 443.76,-100.06 435.46,-106.65 441.39,-110.38\"/>\n<text text-anchor=\"middle\" x=\"356.39\" y=\"-180.3\" font-family=\"Times,serif\" font-size=\"14.00\">0.16</text>\n</g>\n<!-- 7&#45;&gt;1 -->\n<g id=\"edge23\" class=\"edge\">\n<title>7&#45;&gt;1</title>\n<path fill=\"none\" stroke=\"black\" d=\"M180.43,-123.92C196.23,-122.46 220.39,-120.27 241.39,-118.5 271.11,-115.99 305.2,-113.33 328.3,-111.55\"/>\n<polygon fill=\"black\" stroke=\"black\" points=\"328.69,-115.04 338.39,-110.78 328.15,-108.06 328.69,-115.04\"/>\n<text text-anchor=\"middle\" x=\"259.39\" y=\"-122.3\" font-family=\"Times,serif\" font-size=\"14.00\">0.48</text>\n</g>\n<!-- 7&#45;&gt;6 -->\n<g id=\"edge24\" class=\"edge\">\n<title>7&#45;&gt;6</title>\n<path fill=\"none\" stroke=\"black\" d=\"M179.51,-131.44C193.98,-136.77 215.47,-144.69 232.37,-150.91\"/>\n<polygon fill=\"black\" stroke=\"black\" points=\"231.61,-154.36 242.2,-154.53 234.03,-147.79 231.61,-154.36\"/>\n<text text-anchor=\"middle\" x=\"210.89\" y=\"-150.3\" font-family=\"Times,serif\" font-size=\"14.00\">0.26</text>\n</g>\n<!-- 8&#45;&gt;3 -->\n<g id=\"edge25\" class=\"edge\">\n<title>8&#45;&gt;3</title>\n<path fill=\"none\" stroke=\"black\" d=\"M664.46,-181.48C679.23,-164.66 705.27,-134.21 725.39,-106.5 732.54,-96.64 739.87,-85.35 745.95,-75.58\"/>\n<polygon fill=\"black\" stroke=\"black\" points=\"749.11,-77.12 751.36,-66.77 743.15,-73.46 749.11,-77.12\"/>\n<text text-anchor=\"middle\" x=\"707.39\" y=\"-154.3\" font-family=\"Times,serif\" font-size=\"14.00\">0.13</text>\n</g>\n<!-- 8&#45;&gt;4 -->\n<g id=\"edge26\" class=\"edge\">\n<title>8&#45;&gt;4</title>\n<path fill=\"none\" stroke=\"black\" d=\"M669.62,-189.92C705.14,-180.19 788.28,-157.42 831.01,-145.72\"/>\n<polygon fill=\"black\" stroke=\"black\" points=\"831.99,-149.08 840.71,-143.07 830.14,-142.33 831.99,-149.08\"/>\n<text text-anchor=\"middle\" x=\"761.39\" y=\"-172.3\" font-family=\"Times,serif\" font-size=\"14.00\">0.29</text>\n</g>\n<!-- 8&#45;&gt;8 -->\n<g id=\"edge27\" class=\"edge\">\n<title>8&#45;&gt;8</title>\n<path fill=\"none\" stroke=\"black\" d=\"M643.52,-210.79C641.51,-220.89 644.29,-230.5 651.89,-230.5 656.75,-230.5 659.65,-226.55 660.57,-221.06\"/>\n<polygon fill=\"black\" stroke=\"black\" points=\"664.06,-220.68 660.25,-210.79 657.06,-220.89 664.06,-220.68\"/>\n<text text-anchor=\"middle\" x=\"651.89\" y=\"-234.3\" font-family=\"Times,serif\" font-size=\"14.00\">0.44</text>\n</g>\n<!-- 9&#45;&gt;0 -->\n<g id=\"edge28\" class=\"edge\">\n<title>9&#45;&gt;0</title>\n<path fill=\"none\" stroke=\"black\" d=\"M467.41,-96.23C483.61,-110.84 511.48,-135.96 530.52,-153.13\"/>\n<polygon fill=\"black\" stroke=\"black\" points=\"528.31,-155.85 538.08,-159.95 533,-150.66 528.31,-155.85\"/>\n<text text-anchor=\"middle\" x=\"501.89\" y=\"-141.3\" font-family=\"Times,serif\" font-size=\"14.00\">0.13</text>\n</g>\n<!-- 9&#45;&gt;1 -->\n<g id=\"edge29\" class=\"edge\">\n<title>9&#45;&gt;1</title>\n<path fill=\"none\" stroke=\"black\" d=\"M436.57,-77.74C424.15,-73.46 406.64,-69.72 392.39,-75.5 385.75,-78.19 379.67,-82.83 374.51,-87.82\"/>\n<polygon fill=\"black\" stroke=\"black\" points=\"371.89,-85.5 367.65,-95.2 377.02,-90.26 371.89,-85.5\"/>\n<text text-anchor=\"middle\" x=\"404.89\" y=\"-79.3\" font-family=\"Times,serif\" font-size=\"14.00\">0.19</text>\n</g>\n<!-- 9&#45;&gt;9 -->\n<g id=\"edge30\" class=\"edge\">\n<title>9&#45;&gt;9</title>\n<path fill=\"none\" stroke=\"black\" d=\"M445.03,-100.79C443.01,-110.89 445.8,-120.5 453.39,-120.5 458.26,-120.5 461.15,-116.55 462.07,-111.06\"/>\n<polygon fill=\"black\" stroke=\"black\" points=\"465.56,-110.68 461.76,-100.79 458.56,-110.89 465.56,-110.68\"/>\n<text text-anchor=\"middle\" x=\"453.39\" y=\"-124.3\" font-family=\"Times,serif\" font-size=\"14.00\">0.31</text>\n</g>\n<!-- 9&#45;&gt;10 -->\n<g id=\"edge31\" class=\"edge\">\n<title>9&#45;&gt;10</title>\n<path fill=\"none\" stroke=\"black\" d=\"M469.9,-76.3C484.73,-68.46 507.39,-56.49 524.97,-47.2\"/>\n<polygon fill=\"black\" stroke=\"black\" points=\"526.92,-50.12 534.13,-42.36 523.65,-43.94 526.92,-50.12\"/>\n<text text-anchor=\"middle\" x=\"501.89\" y=\"-68.3\" font-family=\"Times,serif\" font-size=\"14.00\">0.12</text>\n</g>\n<!-- 10&#45;&gt;10 -->\n<g id=\"edge32\" class=\"edge\">\n<title>10&#45;&gt;10</title>\n<path fill=\"none\" stroke=\"black\" d=\"M543.39,-51.24C541.65,-61.47 544.49,-71 551.89,-71 556.64,-71 559.5,-67.09 560.5,-61.59\"/>\n<polygon fill=\"black\" stroke=\"black\" points=\"563.99,-61.21 560.4,-51.24 556.99,-61.28 563.99,-61.21\"/>\n<text text-anchor=\"middle\" x=\"551.89\" y=\"-74.8\" font-family=\"Times,serif\" font-size=\"14.00\">0.56</text>\n</g>\n<!-- 11 -->\n<g id=\"node14\" class=\"node\">\n<title>11</title>\n<ellipse fill=\"none\" stroke=\"black\" cx=\"651.89\" cy=\"-19.5\" rx=\"19.5\" ry=\"19.5\"/>\n<text text-anchor=\"middle\" x=\"651.89\" y=\"-15.8\" font-family=\"Times,serif\" font-size=\"14.00\">11</text>\n</g>\n<!-- 10&#45;&gt;11 -->\n<g id=\"edge33\" class=\"edge\">\n<title>10&#45;&gt;11</title>\n<path fill=\"none\" stroke=\"black\" d=\"M571.32,-30.86C585.7,-28.81 605.91,-25.92 622.37,-23.57\"/>\n<polygon fill=\"black\" stroke=\"black\" points=\"623.13,-27 632.54,-22.12 622.14,-20.07 623.13,-27\"/>\n<text text-anchor=\"middle\" x=\"601.89\" y=\"-32.3\" font-family=\"Times,serif\" font-size=\"14.00\">0.29</text>\n</g>\n<!-- 11&#45;&gt;3 -->\n<g id=\"edge34\" class=\"edge\">\n<title>11&#45;&gt;3</title>\n<path fill=\"none\" stroke=\"black\" d=\"M671.12,-24.93C688.39,-30.07 714.5,-37.84 734.03,-43.65\"/>\n<polygon fill=\"black\" stroke=\"black\" points=\"733.25,-47.07 743.83,-46.57 735.24,-40.36 733.25,-47.07\"/>\n<text text-anchor=\"middle\" x=\"707.39\" y=\"-44.3\" font-family=\"Times,serif\" font-size=\"14.00\">0.55</text>\n</g>\n<!-- 11&#45;&gt;11 -->\n<g id=\"edge35\" class=\"edge\">\n<title>11&#45;&gt;11</title>\n<path fill=\"none\" stroke=\"black\" d=\"M643.38,-37.24C641.65,-47.47 644.48,-57 651.89,-57 656.63,-57 659.5,-53.09 660.49,-47.59\"/>\n<polygon fill=\"black\" stroke=\"black\" points=\"663.99,-47.21 660.39,-37.24 656.99,-47.28 663.99,-47.21\"/>\n<text text-anchor=\"middle\" x=\"651.89\" y=\"-60.8\" font-family=\"Times,serif\" font-size=\"14.00\">0.31</text>\n</g>\n</g>\n</svg>\n",
            "text/plain": [
              "<graphviz.graphs.Digraph at 0x7f474310cf40>"
            ]
          },
          "metadata": {},
          "execution_count": 161
        }
      ],
      "source": [
        "dot2 = visualize_graph(trans2, soc_prob2, soc_ixs2, eoc_prob2, eoc_ixs2)\n",
        "dot2"
      ]
    },
    {
      "cell_type": "code",
      "execution_count": null,
      "id": "144b31db",
      "metadata": {
        "id": "144b31db"
      },
      "outputs": [],
      "source": [
        "get_most_representative_words(subset_sents, pred_ixs2)"
      ]
    },
    {
      "cell_type": "code",
      "execution_count": null,
      "id": "0f773a2d",
      "metadata": {
        "id": "0f773a2d"
      },
      "outputs": [],
      "source": []
    }
  ],
  "metadata": {
    "kernelspec": {
      "display_name": "Python 3",
      "name": "python3"
    },
    "language_info": {
      "codemirror_mode": {
        "name": "ipython",
        "version": 3
      },
      "file_extension": ".py",
      "mimetype": "text/x-python",
      "name": "python",
      "nbconvert_exporter": "python",
      "pygments_lexer": "ipython3",
      "version": "3.9.12"
    },
    "colab": {
      "provenance": [],
      "gpuType": "T4"
    },
    "accelerator": "GPU",
    "widgets": {
      "application/vnd.jupyter.widget-state+json": {
        "117e5636ea8c42c9832256f4f432d666": {
          "model_module": "@jupyter-widgets/controls",
          "model_name": "HBoxModel",
          "model_module_version": "1.5.0",
          "state": {
            "_dom_classes": [],
            "_model_module": "@jupyter-widgets/controls",
            "_model_module_version": "1.5.0",
            "_model_name": "HBoxModel",
            "_view_count": null,
            "_view_module": "@jupyter-widgets/controls",
            "_view_module_version": "1.5.0",
            "_view_name": "HBoxView",
            "box_style": "",
            "children": [
              "IPY_MODEL_6b878ec11a084476a8adb19d5a8466c7",
              "IPY_MODEL_3a7384ef1f51453487f319c6fa05104e",
              "IPY_MODEL_8abafca3090842b19161816f93c33530"
            ],
            "layout": "IPY_MODEL_2079f6de51ef43a090307f2bacbe65b4"
          }
        },
        "6b878ec11a084476a8adb19d5a8466c7": {
          "model_module": "@jupyter-widgets/controls",
          "model_name": "HTMLModel",
          "model_module_version": "1.5.0",
          "state": {
            "_dom_classes": [],
            "_model_module": "@jupyter-widgets/controls",
            "_model_module_version": "1.5.0",
            "_model_name": "HTMLModel",
            "_view_count": null,
            "_view_module": "@jupyter-widgets/controls",
            "_view_module_version": "1.5.0",
            "_view_name": "HTMLView",
            "description": "",
            "description_tooltip": null,
            "layout": "IPY_MODEL_5bb1ba9944be4fe7b73b802af855a418",
            "placeholder": "​",
            "style": "IPY_MODEL_cf43e1789e31417190e930e843dc9291",
            "value": "100%"
          }
        },
        "3a7384ef1f51453487f319c6fa05104e": {
          "model_module": "@jupyter-widgets/controls",
          "model_name": "FloatProgressModel",
          "model_module_version": "1.5.0",
          "state": {
            "_dom_classes": [],
            "_model_module": "@jupyter-widgets/controls",
            "_model_module_version": "1.5.0",
            "_model_name": "FloatProgressModel",
            "_view_count": null,
            "_view_module": "@jupyter-widgets/controls",
            "_view_module_version": "1.5.0",
            "_view_name": "ProgressView",
            "bar_style": "success",
            "description": "",
            "description_tooltip": null,
            "layout": "IPY_MODEL_240589b867a04faa85ee216f44bff283",
            "max": 3,
            "min": 0,
            "orientation": "horizontal",
            "style": "IPY_MODEL_189d07277801440691909a1c721f55b4",
            "value": 3
          }
        },
        "8abafca3090842b19161816f93c33530": {
          "model_module": "@jupyter-widgets/controls",
          "model_name": "HTMLModel",
          "model_module_version": "1.5.0",
          "state": {
            "_dom_classes": [],
            "_model_module": "@jupyter-widgets/controls",
            "_model_module_version": "1.5.0",
            "_model_name": "HTMLModel",
            "_view_count": null,
            "_view_module": "@jupyter-widgets/controls",
            "_view_module_version": "1.5.0",
            "_view_name": "HTMLView",
            "description": "",
            "description_tooltip": null,
            "layout": "IPY_MODEL_bf65455d9fcd47afadf9faa7d3c84ce6",
            "placeholder": "​",
            "style": "IPY_MODEL_3540aba9c2dc459cb8968d93a944b54f",
            "value": " 3/3 [00:00&lt;00:00, 87.66it/s]"
          }
        },
        "2079f6de51ef43a090307f2bacbe65b4": {
          "model_module": "@jupyter-widgets/base",
          "model_name": "LayoutModel",
          "model_module_version": "1.2.0",
          "state": {
            "_model_module": "@jupyter-widgets/base",
            "_model_module_version": "1.2.0",
            "_model_name": "LayoutModel",
            "_view_count": null,
            "_view_module": "@jupyter-widgets/base",
            "_view_module_version": "1.2.0",
            "_view_name": "LayoutView",
            "align_content": null,
            "align_items": null,
            "align_self": null,
            "border": null,
            "bottom": null,
            "display": null,
            "flex": null,
            "flex_flow": null,
            "grid_area": null,
            "grid_auto_columns": null,
            "grid_auto_flow": null,
            "grid_auto_rows": null,
            "grid_column": null,
            "grid_gap": null,
            "grid_row": null,
            "grid_template_areas": null,
            "grid_template_columns": null,
            "grid_template_rows": null,
            "height": null,
            "justify_content": null,
            "justify_items": null,
            "left": null,
            "margin": null,
            "max_height": null,
            "max_width": null,
            "min_height": null,
            "min_width": null,
            "object_fit": null,
            "object_position": null,
            "order": null,
            "overflow": null,
            "overflow_x": null,
            "overflow_y": null,
            "padding": null,
            "right": null,
            "top": null,
            "visibility": null,
            "width": null
          }
        },
        "5bb1ba9944be4fe7b73b802af855a418": {
          "model_module": "@jupyter-widgets/base",
          "model_name": "LayoutModel",
          "model_module_version": "1.2.0",
          "state": {
            "_model_module": "@jupyter-widgets/base",
            "_model_module_version": "1.2.0",
            "_model_name": "LayoutModel",
            "_view_count": null,
            "_view_module": "@jupyter-widgets/base",
            "_view_module_version": "1.2.0",
            "_view_name": "LayoutView",
            "align_content": null,
            "align_items": null,
            "align_self": null,
            "border": null,
            "bottom": null,
            "display": null,
            "flex": null,
            "flex_flow": null,
            "grid_area": null,
            "grid_auto_columns": null,
            "grid_auto_flow": null,
            "grid_auto_rows": null,
            "grid_column": null,
            "grid_gap": null,
            "grid_row": null,
            "grid_template_areas": null,
            "grid_template_columns": null,
            "grid_template_rows": null,
            "height": null,
            "justify_content": null,
            "justify_items": null,
            "left": null,
            "margin": null,
            "max_height": null,
            "max_width": null,
            "min_height": null,
            "min_width": null,
            "object_fit": null,
            "object_position": null,
            "order": null,
            "overflow": null,
            "overflow_x": null,
            "overflow_y": null,
            "padding": null,
            "right": null,
            "top": null,
            "visibility": null,
            "width": null
          }
        },
        "cf43e1789e31417190e930e843dc9291": {
          "model_module": "@jupyter-widgets/controls",
          "model_name": "DescriptionStyleModel",
          "model_module_version": "1.5.0",
          "state": {
            "_model_module": "@jupyter-widgets/controls",
            "_model_module_version": "1.5.0",
            "_model_name": "DescriptionStyleModel",
            "_view_count": null,
            "_view_module": "@jupyter-widgets/base",
            "_view_module_version": "1.2.0",
            "_view_name": "StyleView",
            "description_width": ""
          }
        },
        "240589b867a04faa85ee216f44bff283": {
          "model_module": "@jupyter-widgets/base",
          "model_name": "LayoutModel",
          "model_module_version": "1.2.0",
          "state": {
            "_model_module": "@jupyter-widgets/base",
            "_model_module_version": "1.2.0",
            "_model_name": "LayoutModel",
            "_view_count": null,
            "_view_module": "@jupyter-widgets/base",
            "_view_module_version": "1.2.0",
            "_view_name": "LayoutView",
            "align_content": null,
            "align_items": null,
            "align_self": null,
            "border": null,
            "bottom": null,
            "display": null,
            "flex": null,
            "flex_flow": null,
            "grid_area": null,
            "grid_auto_columns": null,
            "grid_auto_flow": null,
            "grid_auto_rows": null,
            "grid_column": null,
            "grid_gap": null,
            "grid_row": null,
            "grid_template_areas": null,
            "grid_template_columns": null,
            "grid_template_rows": null,
            "height": null,
            "justify_content": null,
            "justify_items": null,
            "left": null,
            "margin": null,
            "max_height": null,
            "max_width": null,
            "min_height": null,
            "min_width": null,
            "object_fit": null,
            "object_position": null,
            "order": null,
            "overflow": null,
            "overflow_x": null,
            "overflow_y": null,
            "padding": null,
            "right": null,
            "top": null,
            "visibility": null,
            "width": null
          }
        },
        "189d07277801440691909a1c721f55b4": {
          "model_module": "@jupyter-widgets/controls",
          "model_name": "ProgressStyleModel",
          "model_module_version": "1.5.0",
          "state": {
            "_model_module": "@jupyter-widgets/controls",
            "_model_module_version": "1.5.0",
            "_model_name": "ProgressStyleModel",
            "_view_count": null,
            "_view_module": "@jupyter-widgets/base",
            "_view_module_version": "1.2.0",
            "_view_name": "StyleView",
            "bar_color": null,
            "description_width": ""
          }
        },
        "bf65455d9fcd47afadf9faa7d3c84ce6": {
          "model_module": "@jupyter-widgets/base",
          "model_name": "LayoutModel",
          "model_module_version": "1.2.0",
          "state": {
            "_model_module": "@jupyter-widgets/base",
            "_model_module_version": "1.2.0",
            "_model_name": "LayoutModel",
            "_view_count": null,
            "_view_module": "@jupyter-widgets/base",
            "_view_module_version": "1.2.0",
            "_view_name": "LayoutView",
            "align_content": null,
            "align_items": null,
            "align_self": null,
            "border": null,
            "bottom": null,
            "display": null,
            "flex": null,
            "flex_flow": null,
            "grid_area": null,
            "grid_auto_columns": null,
            "grid_auto_flow": null,
            "grid_auto_rows": null,
            "grid_column": null,
            "grid_gap": null,
            "grid_row": null,
            "grid_template_areas": null,
            "grid_template_columns": null,
            "grid_template_rows": null,
            "height": null,
            "justify_content": null,
            "justify_items": null,
            "left": null,
            "margin": null,
            "max_height": null,
            "max_width": null,
            "min_height": null,
            "min_width": null,
            "object_fit": null,
            "object_position": null,
            "order": null,
            "overflow": null,
            "overflow_x": null,
            "overflow_y": null,
            "padding": null,
            "right": null,
            "top": null,
            "visibility": null,
            "width": null
          }
        },
        "3540aba9c2dc459cb8968d93a944b54f": {
          "model_module": "@jupyter-widgets/controls",
          "model_name": "DescriptionStyleModel",
          "model_module_version": "1.5.0",
          "state": {
            "_model_module": "@jupyter-widgets/controls",
            "_model_module_version": "1.5.0",
            "_model_name": "DescriptionStyleModel",
            "_view_count": null,
            "_view_module": "@jupyter-widgets/base",
            "_view_module_version": "1.2.0",
            "_view_name": "StyleView",
            "description_width": ""
          }
        }
      }
    }
  },
  "nbformat": 4,
  "nbformat_minor": 5
}